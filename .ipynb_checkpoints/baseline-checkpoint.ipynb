{
 "cells": [
  {
   "cell_type": "markdown",
   "id": "d623fc83",
   "metadata": {},
   "source": [
    "# Работа.ру. Предсказание зарплат. \n",
    "## Обработка навыков"
   ]
  },
  {
   "cell_type": "markdown",
   "id": "e5e6f984",
   "metadata": {},
   "source": [
    "<p style=\"font-size: 12pt\">\n",
    "    <b>Общая задача:</b> предсказать зарплату по резюме/вакансии на основе данных.\n",
    "</p>\n",
    "<p style=\"font-size: 12pt\">\n",
    "    <b>Подзадача:</b> отчистить поле <i>навыки</i> от мусора и обеспечить интерпретируемость вклада каждого навыка в зарплату для конкретной профессии.\n",
    "</p>\n",
    "<p style=\"font-size: 12pt\">\n",
    "    <b>Данные:</b> датасет <i>data_vacancies.csv</i>\n",
    "    <ul>\n",
    "        <li>Профессия</li>\n",
    "        <li>График работы</li>\n",
    "        <li>Локация</li>\n",
    "        <li>Навыки</li>\n",
    "    </ul>\n",
    "</p>    \n",
    "<p style=\"font-size: 12pt\">\n",
    "    <b>Бейзлайн:</b> преобразовать данные указанных полей в числовой/векторный вид, обучить модель линейной регрессии, метрика MAPE\n",
    "</p>    "
   ]
  },
  {
   "cell_type": "code",
   "execution_count": 40,
   "id": "5673a801",
   "metadata": {
    "collapsed": true
   },
   "outputs": [
    {
     "name": "stdout",
     "output_type": "stream",
     "text": [
      "Collecting fasttext\n",
      "  Downloading fasttext-0.9.2.tar.gz (68 kB)\n",
      "     -------------------------------------- 68.8/68.8 kB 930.3 kB/s eta 0:00:00\n",
      "  Preparing metadata (setup.py): started\n",
      "  Preparing metadata (setup.py): finished with status 'done'\n",
      "Requirement already satisfied: pybind11>=2.2 in c:\\users\\kshch\\anaconda3\\lib\\site-packages (from fasttext) (2.9.2)\n",
      "Requirement already satisfied: setuptools>=0.7.0 in c:\\users\\kshch\\anaconda3\\lib\\site-packages (from fasttext) (52.0.0.post20210125)\n",
      "Requirement already satisfied: numpy in c:\\users\\kshch\\anaconda3\\lib\\site-packages (from fasttext) (1.21.3)\n",
      "Building wheels for collected packages: fasttext\n",
      "  Building wheel for fasttext (setup.py): started\n",
      "  Building wheel for fasttext (setup.py): finished with status 'done'\n",
      "  Created wheel for fasttext: filename=fasttext-0.9.2-cp38-cp38-win_amd64.whl size=242432 sha256=cc4e9d485e1815c83e3aa1fb42a53ca84be3f4d81d392c05f4745fbee472f7d9\n",
      "  Stored in directory: c:\\users\\kshch\\appdata\\local\\pip\\cache\\wheels\\93\\61\\2a\\c54711a91c418ba06ba195b1d78ff24fcaad8592f2a694ac94\n",
      "Successfully built fasttext\n",
      "Installing collected packages: fasttext\n",
      "Successfully installed fasttext-0.9.2\n"
     ]
    },
    {
     "name": "stderr",
     "output_type": "stream",
     "text": [
      "DEPRECATION: pyodbc 4.0.0-unsupported has a non-standard version number. pip 24.0 will enforce this behaviour change. A possible replacement is to upgrade to a newer version of pyodbc or contact the author to suggest that they release a version with a conforming version number. Discussion can be found at https://github.com/pypa/pip/issues/12063\n",
      "WARNING: There was an error checking the latest version of pip.\n"
     ]
    }
   ],
   "source": [
    "# !pip install -U spacy\n",
    "# !python -m spacy download ru_core_news_sm\n",
    "# !pip install gensim\n",
    "# !pip install fasttext"
   ]
  },
  {
   "cell_type": "code",
   "execution_count": 1,
   "id": "4e1e80dc",
   "metadata": {},
   "outputs": [],
   "source": [
    "# подключение библиотек\n",
    "import numpy as np\n",
    "import pandas as pd\n",
    "import matplotlib.pyplot as plt\n",
    "import seaborn as sns\n",
    "from tqdm.notebook import tqdm\n",
    "\n",
    "from sklearn.metrics import mean_absolute_percentage_error\n",
    "from sklearn.linear_model import LinearRegression\n",
    "from sklearn.model_selection import train_test_split\n",
    "import spacy\n",
    "import gensim.models\n",
    "import fasttext\n",
    "import fasttext.util"
   ]
  },
  {
   "cell_type": "code",
   "execution_count": 2,
   "id": "3dd0ecf0",
   "metadata": {},
   "outputs": [],
   "source": [
    "# функция, возвращает векторизированное предложение\n",
    "def get_vector(model, sentence, vector_size=100):\n",
    "    sentence_vector = []\n",
    "\n",
    "    if len(sentence) == 0:\n",
    "        # Пустые предложения заполним их одним  словом\n",
    "        token_vector = np.zeros(vector_size)\n",
    "        sentence_vector.append(token_vector)\n",
    "    else:\n",
    "        for token in sentence:\n",
    "            try:\n",
    "                token_vector = model.wv[token]\n",
    "            except KeyError as e:\n",
    "                print('here')\n",
    "                # Случай неизвестного слова\n",
    "                token_vector = np.zeros(vector_size)\n",
    "            finally:\n",
    "                sentence_vector.append(token_vector)\n",
    "    \n",
    "    return np.mean(sentence_vector, axis=0)\n",
    "\n",
    "\n",
    "# функция, возвращает векторизированные выборки\n",
    "def vectorize_train_test(model, X_train, X_test, vector_size=100):\n",
    "    X_train_vectorized = np.zeros((X_train.shape[0], vector_size))\n",
    "    for index, sentence in enumerate(X_train):\n",
    "        X_train_vectorized[index] = get_vector(model, sentence, vector_size)\n",
    "\n",
    "    X_test_vectorized = np.zeros((X_test.shape[0], vector_size))\n",
    "    for index, sentence in enumerate(X_test):\n",
    "        X_test_vectorized[index] = get_vector(model, sentence)\n",
    "\n",
    "    return X_train_vectorized, X_test_vectorized\n",
    "\n",
    "\n",
    "\"\"\"\n",
    "Функция, считает:\n",
    " - среднюю вероятность схожести с соседом\n",
    " - среднее косинусное расстояние между схожими словами\n",
    "\"\"\"\n",
    "def calculate_metrics(model):\n",
    "    words = model.wv.key_to_index.keys()\n",
    "    mean_proba = 0\n",
    "    mean_distance = 0\n",
    "\n",
    "    for word in words:\n",
    "        candidate = model.wv.most_similar(positive=[word], topn=1)[0]\n",
    "        mean_distance += model.wv.distance(candidate[0], word)\n",
    "        mean_proba += candidate[1]\n",
    "\n",
    "    return mean_proba / len(words), mean_distance / len(words)"
   ]
  },
  {
   "cell_type": "markdown",
   "id": "52f08f4c",
   "metadata": {},
   "source": [
    "### Загрузка датасета"
   ]
  },
  {
   "cell_type": "code",
   "execution_count": 3,
   "id": "77edbe5f",
   "metadata": {},
   "outputs": [
    {
     "data": {
      "text/html": [
       "<div>\n",
       "<style scoped>\n",
       "    .dataframe tbody tr th:only-of-type {\n",
       "        vertical-align: middle;\n",
       "    }\n",
       "\n",
       "    .dataframe tbody tr th {\n",
       "        vertical-align: top;\n",
       "    }\n",
       "\n",
       "    .dataframe thead th {\n",
       "        text-align: right;\n",
       "    }\n",
       "</style>\n",
       "<table border=\"1\" class=\"dataframe\">\n",
       "  <thead>\n",
       "    <tr style=\"text-align: right;\">\n",
       "      <th></th>\n",
       "      <th>id</th>\n",
       "      <th>custom_position</th>\n",
       "      <th>schedule</th>\n",
       "      <th>salary_from</th>\n",
       "      <th>salary_to</th>\n",
       "      <th>salary_pay_type</th>\n",
       "      <th>offer_education_id</th>\n",
       "      <th>education_name</th>\n",
       "      <th>education_is_base</th>\n",
       "      <th>education_order_num</th>\n",
       "      <th>city_id</th>\n",
       "      <th>list_regions</th>\n",
       "      <th>work_skills</th>\n",
       "      <th>tags_id</th>\n",
       "    </tr>\n",
       "  </thead>\n",
       "  <tbody>\n",
       "    <tr>\n",
       "      <th>0</th>\n",
       "      <td>48202096</td>\n",
       "      <td>Сварщик-сборщик</td>\n",
       "      <td>полный рабочий день</td>\n",
       "      <td>60000</td>\n",
       "      <td>120000</td>\n",
       "      <td>NaN</td>\n",
       "      <td>0</td>\n",
       "      <td>любое</td>\n",
       "      <td>True</td>\n",
       "      <td>0</td>\n",
       "      <td>2</td>\n",
       "      <td>[4]</td>\n",
       "      <td>['сварочные работы', 'сборка изделий по чертеж...</td>\n",
       "      <td>NaN</td>\n",
       "    </tr>\n",
       "    <tr>\n",
       "      <th>1</th>\n",
       "      <td>48202097</td>\n",
       "      <td>Сварщик-монтажник</td>\n",
       "      <td>полный рабочий день</td>\n",
       "      <td>60000</td>\n",
       "      <td>120000</td>\n",
       "      <td>NaN</td>\n",
       "      <td>0</td>\n",
       "      <td>любое</td>\n",
       "      <td>True</td>\n",
       "      <td>0</td>\n",
       "      <td>2</td>\n",
       "      <td>[4]</td>\n",
       "      <td>['монтажные работы', 'строительные работы', 'э...</td>\n",
       "      <td>NaN</td>\n",
       "    </tr>\n",
       "    <tr>\n",
       "      <th>2</th>\n",
       "      <td>48202098</td>\n",
       "      <td>Слесарь-сборщик</td>\n",
       "      <td>полный рабочий день</td>\n",
       "      <td>60000</td>\n",
       "      <td>80000</td>\n",
       "      <td>NaN</td>\n",
       "      <td>0</td>\n",
       "      <td>любое</td>\n",
       "      <td>True</td>\n",
       "      <td>0</td>\n",
       "      <td>2</td>\n",
       "      <td>[4]</td>\n",
       "      <td>['работа на фрезерных станках', 'слесарный рем...</td>\n",
       "      <td>NaN</td>\n",
       "    </tr>\n",
       "    <tr>\n",
       "      <th>3</th>\n",
       "      <td>48202356</td>\n",
       "      <td>Грузчик-упаковщик</td>\n",
       "      <td>частичная занятость</td>\n",
       "      <td>30000</td>\n",
       "      <td>35000</td>\n",
       "      <td>NaN</td>\n",
       "      <td>0</td>\n",
       "      <td>любое</td>\n",
       "      <td>True</td>\n",
       "      <td>0</td>\n",
       "      <td>1</td>\n",
       "      <td>[3]</td>\n",
       "      <td>['комплектация товара', 'маркировка', 'стрессо...</td>\n",
       "      <td>[6, 9]</td>\n",
       "    </tr>\n",
       "    <tr>\n",
       "      <th>4</th>\n",
       "      <td>48202357</td>\n",
       "      <td>Грузчик-упаковщик</td>\n",
       "      <td>частичная занятость</td>\n",
       "      <td>30000</td>\n",
       "      <td>35000</td>\n",
       "      <td>NaN</td>\n",
       "      <td>0</td>\n",
       "      <td>любое</td>\n",
       "      <td>True</td>\n",
       "      <td>0</td>\n",
       "      <td>57</td>\n",
       "      <td>[181, 182, 183, 185, 186, 187, 188, 189, 190, ...</td>\n",
       "      <td>['маркировка', 'стрессоустойчивость', 'погрузо...</td>\n",
       "      <td>[6, 9]</td>\n",
       "    </tr>\n",
       "  </tbody>\n",
       "</table>\n",
       "</div>"
      ],
      "text/plain": [
       "         id    custom_position             schedule  salary_from  salary_to  \\\n",
       "0  48202096    Сварщик-сборщик  полный рабочий день        60000     120000   \n",
       "1  48202097  Сварщик-монтажник  полный рабочий день        60000     120000   \n",
       "2  48202098    Слесарь-сборщик  полный рабочий день        60000      80000   \n",
       "3  48202356  Грузчик-упаковщик  частичная занятость        30000      35000   \n",
       "4  48202357  Грузчик-упаковщик  частичная занятость        30000      35000   \n",
       "\n",
       "  salary_pay_type  offer_education_id education_name  education_is_base  \\\n",
       "0             NaN                   0          любое               True   \n",
       "1             NaN                   0          любое               True   \n",
       "2             NaN                   0          любое               True   \n",
       "3             NaN                   0          любое               True   \n",
       "4             NaN                   0          любое               True   \n",
       "\n",
       "   education_order_num  city_id  \\\n",
       "0                    0        2   \n",
       "1                    0        2   \n",
       "2                    0        2   \n",
       "3                    0        1   \n",
       "4                    0       57   \n",
       "\n",
       "                                        list_regions  \\\n",
       "0                                                [4]   \n",
       "1                                                [4]   \n",
       "2                                                [4]   \n",
       "3                                                [3]   \n",
       "4  [181, 182, 183, 185, 186, 187, 188, 189, 190, ...   \n",
       "\n",
       "                                         work_skills tags_id  \n",
       "0  ['сварочные работы', 'сборка изделий по чертеж...     NaN  \n",
       "1  ['монтажные работы', 'строительные работы', 'э...     NaN  \n",
       "2  ['работа на фрезерных станках', 'слесарный рем...     NaN  \n",
       "3  ['комплектация товара', 'маркировка', 'стрессо...  [6, 9]  \n",
       "4  ['маркировка', 'стрессоустойчивость', 'погрузо...  [6, 9]  "
      ]
     },
     "execution_count": 3,
     "metadata": {},
     "output_type": "execute_result"
    }
   ],
   "source": [
    "df = pd.read_csv('./data/data_vacancies.csv')\n",
    "df.head(5)"
   ]
  },
  {
   "cell_type": "code",
   "execution_count": 4,
   "id": "1d7ae524",
   "metadata": {},
   "outputs": [
    {
     "data": {
      "text/plain": [
       "Text(0.5, 1.0, 'Гистограмма education_name')"
      ]
     },
     "execution_count": 4,
     "metadata": {},
     "output_type": "execute_result"
    },
    {
     "data": {
      "image/png": "[encoded data removed]",
      "text/plain": [
       "<Figure size 1080x360 with 1 Axes>"
      ]
     },
     "metadata": {
      "needs_background": "light"
     },
     "output_type": "display_data"
    }
   ],
   "source": [
    "plt.figure(figsize=(15, 5))\n",
    "df['city_id'].value_counts().plot(kind='bar', grid=True)\n",
    "plt.title(\"Гистограмма education_name\")"
   ]
  },
  {
   "cell_type": "markdown",
   "id": "9cb1e484",
   "metadata": {},
   "source": [
    "### Предобработка"
   ]
  },
  {
   "cell_type": "markdown",
   "id": "38e68f32",
   "metadata": {},
   "source": [
    "##### Выберим необходимые поля"
   ]
  },
  {
   "cell_type": "code",
   "execution_count": 5,
   "id": "22768fb3",
   "metadata": {},
   "outputs": [
    {
     "data": {
      "text/html": [
       "<div>\n",
       "<style scoped>\n",
       "    .dataframe tbody tr th:only-of-type {\n",
       "        vertical-align: middle;\n",
       "    }\n",
       "\n",
       "    .dataframe tbody tr th {\n",
       "        vertical-align: top;\n",
       "    }\n",
       "\n",
       "    .dataframe thead th {\n",
       "        text-align: right;\n",
       "    }\n",
       "</style>\n",
       "<table border=\"1\" class=\"dataframe\">\n",
       "  <thead>\n",
       "    <tr style=\"text-align: right;\">\n",
       "      <th></th>\n",
       "      <th>custom_position</th>\n",
       "      <th>schedule</th>\n",
       "      <th>salary_from</th>\n",
       "      <th>city_id</th>\n",
       "      <th>work_skills</th>\n",
       "    </tr>\n",
       "  </thead>\n",
       "  <tbody>\n",
       "    <tr>\n",
       "      <th>0</th>\n",
       "      <td>Сварщик-сборщик</td>\n",
       "      <td>полный рабочий день</td>\n",
       "      <td>60000</td>\n",
       "      <td>2</td>\n",
       "      <td>['сварочные работы', 'сборка изделий по чертеж...</td>\n",
       "    </tr>\n",
       "    <tr>\n",
       "      <th>1</th>\n",
       "      <td>Сварщик-монтажник</td>\n",
       "      <td>полный рабочий день</td>\n",
       "      <td>60000</td>\n",
       "      <td>2</td>\n",
       "      <td>['монтажные работы', 'строительные работы', 'э...</td>\n",
       "    </tr>\n",
       "    <tr>\n",
       "      <th>2</th>\n",
       "      <td>Слесарь-сборщик</td>\n",
       "      <td>полный рабочий день</td>\n",
       "      <td>60000</td>\n",
       "      <td>2</td>\n",
       "      <td>['работа на фрезерных станках', 'слесарный рем...</td>\n",
       "    </tr>\n",
       "    <tr>\n",
       "      <th>3</th>\n",
       "      <td>Грузчик-упаковщик</td>\n",
       "      <td>частичная занятость</td>\n",
       "      <td>30000</td>\n",
       "      <td>1</td>\n",
       "      <td>['комплектация товара', 'маркировка', 'стрессо...</td>\n",
       "    </tr>\n",
       "    <tr>\n",
       "      <th>4</th>\n",
       "      <td>Грузчик-упаковщик</td>\n",
       "      <td>частичная занятость</td>\n",
       "      <td>30000</td>\n",
       "      <td>57</td>\n",
       "      <td>['маркировка', 'стрессоустойчивость', 'погрузо...</td>\n",
       "    </tr>\n",
       "  </tbody>\n",
       "</table>\n",
       "</div>"
      ],
      "text/plain": [
       "     custom_position             schedule  salary_from  city_id  \\\n",
       "0    Сварщик-сборщик  полный рабочий день        60000        2   \n",
       "1  Сварщик-монтажник  полный рабочий день        60000        2   \n",
       "2    Слесарь-сборщик  полный рабочий день        60000        2   \n",
       "3  Грузчик-упаковщик  частичная занятость        30000        1   \n",
       "4  Грузчик-упаковщик  частичная занятость        30000       57   \n",
       "\n",
       "                                         work_skills  \n",
       "0  ['сварочные работы', 'сборка изделий по чертеж...  \n",
       "1  ['монтажные работы', 'строительные работы', 'э...  \n",
       "2  ['работа на фрезерных станках', 'слесарный рем...  \n",
       "3  ['комплектация товара', 'маркировка', 'стрессо...  \n",
       "4  ['маркировка', 'стрессоустойчивость', 'погрузо...  "
      ]
     },
     "execution_count": 5,
     "metadata": {},
     "output_type": "execute_result"
    }
   ],
   "source": [
    "df = df[['custom_position', 'schedule', 'salary_from', 'city_id', 'work_skills']]\n",
    "df.head(5)"
   ]
  },
  {
   "cell_type": "markdown",
   "id": "ac018083",
   "metadata": {},
   "source": [
    "##### Возьмем вакансии для топ5 локаций"
   ]
  },
  {
   "cell_type": "code",
   "execution_count": 6,
   "id": "2d38a989",
   "metadata": {},
   "outputs": [
    {
     "data": {
      "text/html": [
       "<div>\n",
       "<style scoped>\n",
       "    .dataframe tbody tr th:only-of-type {\n",
       "        vertical-align: middle;\n",
       "    }\n",
       "\n",
       "    .dataframe tbody tr th {\n",
       "        vertical-align: top;\n",
       "    }\n",
       "\n",
       "    .dataframe thead th {\n",
       "        text-align: right;\n",
       "    }\n",
       "</style>\n",
       "<table border=\"1\" class=\"dataframe\">\n",
       "  <thead>\n",
       "    <tr style=\"text-align: right;\">\n",
       "      <th></th>\n",
       "      <th>custom_position</th>\n",
       "      <th>schedule</th>\n",
       "      <th>salary_from</th>\n",
       "      <th>city_id</th>\n",
       "      <th>work_skills</th>\n",
       "    </tr>\n",
       "  </thead>\n",
       "  <tbody>\n",
       "    <tr>\n",
       "      <th>0</th>\n",
       "      <td>Сварщик-сборщик</td>\n",
       "      <td>полный рабочий день</td>\n",
       "      <td>60000</td>\n",
       "      <td>2</td>\n",
       "      <td>['сварочные работы', 'сборка изделий по чертеж...</td>\n",
       "    </tr>\n",
       "    <tr>\n",
       "      <th>1</th>\n",
       "      <td>Сварщик-монтажник</td>\n",
       "      <td>полный рабочий день</td>\n",
       "      <td>60000</td>\n",
       "      <td>2</td>\n",
       "      <td>['монтажные работы', 'строительные работы', 'э...</td>\n",
       "    </tr>\n",
       "    <tr>\n",
       "      <th>2</th>\n",
       "      <td>Слесарь-сборщик</td>\n",
       "      <td>полный рабочий день</td>\n",
       "      <td>60000</td>\n",
       "      <td>2</td>\n",
       "      <td>['работа на фрезерных станках', 'слесарный рем...</td>\n",
       "    </tr>\n",
       "    <tr>\n",
       "      <th>3</th>\n",
       "      <td>Грузчик-упаковщик</td>\n",
       "      <td>частичная занятость</td>\n",
       "      <td>30000</td>\n",
       "      <td>1</td>\n",
       "      <td>['комплектация товара', 'маркировка', 'стрессо...</td>\n",
       "    </tr>\n",
       "    <tr>\n",
       "      <th>4</th>\n",
       "      <td>Грузчик-упаковщик</td>\n",
       "      <td>частичная занятость</td>\n",
       "      <td>30000</td>\n",
       "      <td>57</td>\n",
       "      <td>['маркировка', 'стрессоустойчивость', 'погрузо...</td>\n",
       "    </tr>\n",
       "  </tbody>\n",
       "</table>\n",
       "</div>"
      ],
      "text/plain": [
       "     custom_position             schedule  salary_from  city_id  \\\n",
       "0    Сварщик-сборщик  полный рабочий день        60000        2   \n",
       "1  Сварщик-монтажник  полный рабочий день        60000        2   \n",
       "2    Слесарь-сборщик  полный рабочий день        60000        2   \n",
       "3  Грузчик-упаковщик  частичная занятость        30000        1   \n",
       "4  Грузчик-упаковщик  частичная занятость        30000       57   \n",
       "\n",
       "                                         work_skills  \n",
       "0  ['сварочные работы', 'сборка изделий по чертеж...  \n",
       "1  ['монтажные работы', 'строительные работы', 'э...  \n",
       "2  ['работа на фрезерных станках', 'слесарный рем...  \n",
       "3  ['комплектация товара', 'маркировка', 'стрессо...  \n",
       "4  ['маркировка', 'стрессоустойчивость', 'погрузо...  "
      ]
     },
     "execution_count": 6,
     "metadata": {},
     "output_type": "execute_result"
    }
   ],
   "source": [
    "top5_loc = df['city_id'].value_counts()[:5].index.tolist()\n",
    "df = df[df['city_id'].isin(top5_loc)]\n",
    "df.head(5)"
   ]
  },
  {
   "cell_type": "markdown",
   "id": "531b26a6",
   "metadata": {},
   "source": [
    "##### Проверим пропуски"
   ]
  },
  {
   "cell_type": "code",
   "execution_count": 7,
   "id": "8136617e",
   "metadata": {},
   "outputs": [
    {
     "data": {
      "text/plain": [
       "custom_position    0\n",
       "schedule           0\n",
       "salary_from        0\n",
       "city_id            0\n",
       "work_skills        0\n",
       "dtype: int64"
      ]
     },
     "execution_count": 7,
     "metadata": {},
     "output_type": "execute_result"
    }
   ],
   "source": [
    "df.isna().sum()"
   ]
  },
  {
   "cell_type": "code",
   "execution_count": 8,
   "id": "36dcbc01",
   "metadata": {},
   "outputs": [
    {
     "data": {
      "text/plain": [
       "array(['полный рабочий день', 'частичная занятость', 'сменный график',\n",
       "       'свободный график', 'вахта', 'удаленная работа'], dtype=object)"
      ]
     },
     "execution_count": 8,
     "metadata": {},
     "output_type": "execute_result"
    }
   ],
   "source": [
    "df['schedule'].unique()"
   ]
  },
  {
   "cell_type": "code",
   "execution_count": 9,
   "id": "b1c5ae9a",
   "metadata": {},
   "outputs": [
    {
     "data": {
      "text/plain": [
       "array([  2,   1,  57, 102, 174], dtype=int64)"
      ]
     },
     "execution_count": 9,
     "metadata": {},
     "output_type": "execute_result"
    }
   ],
   "source": [
    "df['city_id'].unique()"
   ]
  },
  {
   "cell_type": "markdown",
   "id": "fa65f859",
   "metadata": {},
   "source": [
    "##### OneHotEncoding полей city_id и schedule"
   ]
  },
  {
   "cell_type": "code",
   "execution_count": 10,
   "id": "4cdfae0a",
   "metadata": {},
   "outputs": [
    {
     "data": {
      "text/html": [
       "<div>\n",
       "<style scoped>\n",
       "    .dataframe tbody tr th:only-of-type {\n",
       "        vertical-align: middle;\n",
       "    }\n",
       "\n",
       "    .dataframe tbody tr th {\n",
       "        vertical-align: top;\n",
       "    }\n",
       "\n",
       "    .dataframe thead th {\n",
       "        text-align: right;\n",
       "    }\n",
       "</style>\n",
       "<table border=\"1\" class=\"dataframe\">\n",
       "  <thead>\n",
       "    <tr style=\"text-align: right;\">\n",
       "      <th></th>\n",
       "      <th>custom_position</th>\n",
       "      <th>salary_from</th>\n",
       "      <th>work_skills</th>\n",
       "      <th>city_id_1</th>\n",
       "      <th>city_id_2</th>\n",
       "      <th>city_id_57</th>\n",
       "      <th>city_id_102</th>\n",
       "      <th>city_id_174</th>\n",
       "      <th>schedule_вахта</th>\n",
       "      <th>schedule_полный рабочий день</th>\n",
       "      <th>schedule_свободный график</th>\n",
       "      <th>schedule_сменный график</th>\n",
       "      <th>schedule_удаленная работа</th>\n",
       "      <th>schedule_частичная занятость</th>\n",
       "    </tr>\n",
       "  </thead>\n",
       "  <tbody>\n",
       "    <tr>\n",
       "      <th>0</th>\n",
       "      <td>Сварщик-сборщик</td>\n",
       "      <td>60000</td>\n",
       "      <td>['сварочные работы', 'сборка изделий по чертеж...</td>\n",
       "      <td>0</td>\n",
       "      <td>1</td>\n",
       "      <td>0</td>\n",
       "      <td>0</td>\n",
       "      <td>0</td>\n",
       "      <td>0</td>\n",
       "      <td>1</td>\n",
       "      <td>0</td>\n",
       "      <td>0</td>\n",
       "      <td>0</td>\n",
       "      <td>0</td>\n",
       "    </tr>\n",
       "    <tr>\n",
       "      <th>1</th>\n",
       "      <td>Сварщик-монтажник</td>\n",
       "      <td>60000</td>\n",
       "      <td>['монтажные работы', 'строительные работы', 'э...</td>\n",
       "      <td>0</td>\n",
       "      <td>1</td>\n",
       "      <td>0</td>\n",
       "      <td>0</td>\n",
       "      <td>0</td>\n",
       "      <td>0</td>\n",
       "      <td>1</td>\n",
       "      <td>0</td>\n",
       "      <td>0</td>\n",
       "      <td>0</td>\n",
       "      <td>0</td>\n",
       "    </tr>\n",
       "    <tr>\n",
       "      <th>2</th>\n",
       "      <td>Слесарь-сборщик</td>\n",
       "      <td>60000</td>\n",
       "      <td>['работа на фрезерных станках', 'слесарный рем...</td>\n",
       "      <td>0</td>\n",
       "      <td>1</td>\n",
       "      <td>0</td>\n",
       "      <td>0</td>\n",
       "      <td>0</td>\n",
       "      <td>0</td>\n",
       "      <td>1</td>\n",
       "      <td>0</td>\n",
       "      <td>0</td>\n",
       "      <td>0</td>\n",
       "      <td>0</td>\n",
       "    </tr>\n",
       "    <tr>\n",
       "      <th>3</th>\n",
       "      <td>Грузчик-упаковщик</td>\n",
       "      <td>30000</td>\n",
       "      <td>['комплектация товара', 'маркировка', 'стрессо...</td>\n",
       "      <td>1</td>\n",
       "      <td>0</td>\n",
       "      <td>0</td>\n",
       "      <td>0</td>\n",
       "      <td>0</td>\n",
       "      <td>0</td>\n",
       "      <td>0</td>\n",
       "      <td>0</td>\n",
       "      <td>0</td>\n",
       "      <td>0</td>\n",
       "      <td>1</td>\n",
       "    </tr>\n",
       "    <tr>\n",
       "      <th>4</th>\n",
       "      <td>Грузчик-упаковщик</td>\n",
       "      <td>30000</td>\n",
       "      <td>['маркировка', 'стрессоустойчивость', 'погрузо...</td>\n",
       "      <td>0</td>\n",
       "      <td>0</td>\n",
       "      <td>1</td>\n",
       "      <td>0</td>\n",
       "      <td>0</td>\n",
       "      <td>0</td>\n",
       "      <td>0</td>\n",
       "      <td>0</td>\n",
       "      <td>0</td>\n",
       "      <td>0</td>\n",
       "      <td>1</td>\n",
       "    </tr>\n",
       "  </tbody>\n",
       "</table>\n",
       "</div>"
      ],
      "text/plain": [
       "     custom_position  salary_from  \\\n",
       "0    Сварщик-сборщик        60000   \n",
       "1  Сварщик-монтажник        60000   \n",
       "2    Слесарь-сборщик        60000   \n",
       "3  Грузчик-упаковщик        30000   \n",
       "4  Грузчик-упаковщик        30000   \n",
       "\n",
       "                                         work_skills  city_id_1  city_id_2  \\\n",
       "0  ['сварочные работы', 'сборка изделий по чертеж...          0          1   \n",
       "1  ['монтажные работы', 'строительные работы', 'э...          0          1   \n",
       "2  ['работа на фрезерных станках', 'слесарный рем...          0          1   \n",
       "3  ['комплектация товара', 'маркировка', 'стрессо...          1          0   \n",
       "4  ['маркировка', 'стрессоустойчивость', 'погрузо...          0          0   \n",
       "\n",
       "   city_id_57  city_id_102  city_id_174  schedule_вахта  \\\n",
       "0           0            0            0               0   \n",
       "1           0            0            0               0   \n",
       "2           0            0            0               0   \n",
       "3           0            0            0               0   \n",
       "4           1            0            0               0   \n",
       "\n",
       "   schedule_полный рабочий день  schedule_свободный график  \\\n",
       "0                             1                          0   \n",
       "1                             1                          0   \n",
       "2                             1                          0   \n",
       "3                             0                          0   \n",
       "4                             0                          0   \n",
       "\n",
       "   schedule_сменный график  schedule_удаленная работа  \\\n",
       "0                        0                          0   \n",
       "1                        0                          0   \n",
       "2                        0                          0   \n",
       "3                        0                          0   \n",
       "4                        0                          0   \n",
       "\n",
       "   schedule_частичная занятость  \n",
       "0                             0  \n",
       "1                             0  \n",
       "2                             0  \n",
       "3                             1  \n",
       "4                             1  "
      ]
     },
     "execution_count": 10,
     "metadata": {},
     "output_type": "execute_result"
    }
   ],
   "source": [
    "city_id_one = pd.get_dummies(df['city_id'], prefix='city_id')\n",
    "schedule_one = pd.get_dummies(df['schedule'], prefix='schedule')\n",
    "\n",
    "df = pd.concat([df, city_id_one], axis=1)\n",
    "df = pd.concat([df, schedule_one], axis=1)\n",
    "\n",
    "df.drop(columns=['city_id'], inplace=True)\n",
    "df.drop(columns=['schedule'], inplace=True)\n",
    "df.head(5)"
   ]
  },
  {
   "cell_type": "markdown",
   "id": "ffe0b89e",
   "metadata": {},
   "source": [
    "##### Нормализация и токенизации поля custom_position"
   ]
  },
  {
   "cell_type": "code",
   "execution_count": null,
   "id": "fba66615",
   "metadata": {},
   "outputs": [],
   "source": [
    "nlp = spacy.load('ru_core_news_sm')\n",
    "\n",
    "df['custom_position_clear'] = df['custom_position'].apply(\n",
    "    lambda x: [str(token).lower() for token in nlp(x) if\n",
    "      not token.is_stop\n",
    "      and not token.is_punct\n",
    "      and not token.is_digit\n",
    "      and not token.like_email\n",
    "      and not token.like_num\n",
    "      and not token.is_space\n",
    "    ]\n",
    "  )\n",
    "\n",
    "df.drop(columns=['custom_position'], inplace=True)\n",
    "df.head(5)"
   ]
  },
  {
   "cell_type": "markdown",
   "id": "ab7bf16d",
   "metadata": {},
   "source": [
    "##### Тренеровочная/тестовая выборки"
   ]
  },
  {
   "cell_type": "code",
   "execution_count": null,
   "id": "f957ef76",
   "metadata": {},
   "outputs": [],
   "source": [
    "X_train, X_test, y_train, y_test = train_test_split(df.loc[:, df.columns != 'salary_from'], df['salary_from'],\n",
    "                                                    random_state=2023)"
   ]
  },
  {
   "cell_type": "code",
   "execution_count": null,
   "id": "e7a9b897",
   "metadata": {},
   "outputs": [],
   "source": [
    "X_train.drop(columns=['work_skills'], inplace=True)\n",
    "X_test.drop(columns=['work_skills'], inplace=True)"
   ]
  },
  {
   "cell_type": "markdown",
   "id": "53db30d2",
   "metadata": {},
   "source": [
    "##### Векторизация предложений"
   ]
  },
  {
   "cell_type": "markdown",
   "id": "d65174b0",
   "metadata": {},
   "source": [
    "### ТЕСТ"
   ]
  },
  {
   "cell_type": "code",
   "execution_count": 13,
   "id": "85ce39ee",
   "metadata": {},
   "outputs": [],
   "source": [
    "# gensim.models.FastText??"
   ]
  },
  {
   "cell_type": "code",
   "execution_count": null,
   "id": "6878c4f6",
   "metadata": {},
   "outputs": [],
   "source": [
    "mape = []\n",
    "mean_probas = []\n",
    "mean_distances = []\n",
    "\n",
    "for epochs in tqdm(range(10, 110, 10)):\n",
    "    # получение embeddings\n",
    "    fasttext = gensim.models.FastText(vector_size=100, min_count=1)\n",
    "    fasttext.build_vocab(corpus_iterable=X_train['custom_position_clear'])\n",
    "\n",
    "    fasttext.train(\n",
    "        corpus_iterable=X_train['custom_position_clear'],\n",
    "        total_examples=len(X_train['custom_position_clear']),\n",
    "        epochs=epochs\n",
    "        )\n",
    "\n",
    "    mean_proba, mean_distance = calculate_metrics(fasttext)\n",
    "    \n",
    "    cuspos_vec_train, cuspos_vec_test = vectorize_train_test(fasttext, \n",
    "                                                             X_train['custom_position_clear'], \n",
    "                                                             X_test['custom_position_clear'])\n",
    "\n",
    "    cuspos_vec_train = pd.DataFrame(cuspos_vec_train).add_prefix('custom_position_')\n",
    "    cuspos_vec_test = pd.DataFrame(cuspos_vec_test).add_prefix('custom_position_')\n",
    "\n",
    "    X_train_temp = pd.concat([X_train.reset_index(drop=True), cuspos_vec_train], axis=1)\n",
    "    X_test_temp = pd.concat([X_test.reset_index(drop=True), cuspos_vec_test], axis=1)\n",
    "\n",
    "    X_train_temp.drop(columns=['custom_position_clear'], inplace=True)\n",
    "    X_test_temp.drop(columns=['custom_position_clear'], inplace=True)\n",
    "    \n",
    "    reg = LinearRegression().fit(X_train_temp, y_train)\n",
    "    y_pred = reg.predict(X_test_temp)\n",
    "    \n",
    "    mape.append(mean_absolute_percentage_error(y_test, y_pred))\n",
    "    mean_probas.append(mean_probas)\n",
    "    mean_distances.append(mean_distance)"
   ]
  },
  {
   "cell_type": "code",
   "execution_count": null,
   "id": "8bfd6431",
   "metadata": {},
   "outputs": [],
   "source": [
    "import matplotlib.pyplot as plt\n",
    "\n",
    "plt.figure(figsize=(10, 7))\n",
    "plt.plot(np.arange(10, 110, 10), mape, label='MAPE')\n",
    "plt.plot(np.arange(10, 110, 10), mean_probas, label='Mean_probas')\n",
    "plt.plot(np.arange(10, 110, 10), mean_distances, label='Mean_distances')\n",
    "plt.legend()"
   ]
  },
  {
   "cell_type": "markdown",
   "id": "40d0a0f6",
   "metadata": {},
   "source": [
    "### Тест"
   ]
  },
  {
   "attachments": {
    "image.png": {
     "image/png": "[encoded data removed]"
    }
   },
   "cell_type": "markdown",
   "id": "1349e69e",
   "metadata": {},
   "source": [
    "![image.png](attachment:image.png)"
   ]
  },
  {
   "attachments": {
    "image.png": {
     "image/png": "[encoded data removed]"
    }
   },
   "cell_type": "markdown",
   "id": "38308697",
   "metadata": {},
   "source": [
    "![image.png](attachment:image.png)"
   ]
  },
  {
   "cell_type": "code",
   "execution_count": null,
   "id": "3d59f43c",
   "metadata": {},
   "outputs": [],
   "source": []
  }
 ],
 "metadata": {
  "kernelspec": {
   "display_name": "Python 3",
   "language": "python",
   "name": "python3"
  },
  "language_info": {
   "codemirror_mode": {
    "name": "ipython",
    "version": 3
   },
   "file_extension": ".py",
   "mimetype": "text/x-python",
   "name": "python",
   "nbconvert_exporter": "python",
   "pygments_lexer": "ipython3",
   "version": "3.8.8"
  }
 },
 "nbformat": 4,
 "nbformat_minor": 5
}
