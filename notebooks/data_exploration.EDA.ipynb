{
 "cells": [
  {
   "cell_type": "markdown",
   "id": "e9557813",
   "metadata": {},
   "source": [
    "# Предсказание зарплат\n",
    "## Анализ данных"
   ]
  },
  {
   "cell_type": "code",
   "execution_count": 513,
   "id": "306d24f8",
   "metadata": {
    "collapsed": true
   },
   "outputs": [
    {
     "name": "stdout",
     "output_type": "stream",
     "text": [
      "Requirement already satisfied: pip in c:\\users\\kshch\\anaconda3\\lib\\site-packages (23.3)\n"
     ]
    },
    {
     "name": "stderr",
     "output_type": "stream",
     "text": [
      "DEPRECATION: pyodbc 4.0.0-unsupported has a non-standard version number. pip 24.0 will enforce this behaviour change. A possible replacement is to upgrade to a newer version of pyodbc or contact the author to suggest that they release a version with a conforming version number. Discussion can be found at https://github.com/pypa/pip/issues/12063\n",
      "WARNING: There was an error checking the latest version of pip.\n"
     ]
    },
    {
     "name": "stdout",
     "output_type": "stream",
     "text": [
      "Requirement already satisfied: click in c:\\users\\kshch\\anaconda3\\lib\\site-packages (8.1.7)\n",
      "Requirement already satisfied: colorama in c:\\users\\kshch\\anaconda3\\lib\\site-packages (from click) (0.4.6)\n"
     ]
    },
    {
     "name": "stderr",
     "output_type": "stream",
     "text": [
      "DEPRECATION: pyodbc 4.0.0-unsupported has a non-standard version number. pip 24.0 will enforce this behaviour change. A possible replacement is to upgrade to a newer version of pyodbc or contact the author to suggest that they release a version with a conforming version number. Discussion can be found at https://github.com/pypa/pip/issues/12063\n",
      "WARNING: There was an error checking the latest version of pip.\n"
     ]
    },
    {
     "name": "stdout",
     "output_type": "stream",
     "text": [
      "Requirement already satisfied: spacy in c:\\users\\kshch\\anaconda3\\lib\\site-packages (3.7.2)\n",
      "Requirement already satisfied: spacy-legacy<3.1.0,>=3.0.11 in c:\\users\\kshch\\anaconda3\\lib\\site-packages (from spacy) (3.0.12)\n",
      "Requirement already satisfied: spacy-loggers<2.0.0,>=1.0.0 in c:\\users\\kshch\\anaconda3\\lib\\site-packages (from spacy) (1.0.5)\n",
      "Requirement already satisfied: murmurhash<1.1.0,>=0.28.0 in c:\\users\\kshch\\anaconda3\\lib\\site-packages (from spacy) (1.0.10)\n",
      "Requirement already satisfied: cymem<2.1.0,>=2.0.2 in c:\\users\\kshch\\anaconda3\\lib\\site-packages (from spacy) (2.0.8)\n",
      "Requirement already satisfied: preshed<3.1.0,>=3.0.2 in c:\\users\\kshch\\anaconda3\\lib\\site-packages (from spacy) (3.0.9)\n",
      "Requirement already satisfied: thinc<8.3.0,>=8.1.8 in c:\\users\\kshch\\anaconda3\\lib\\site-packages (from spacy) (8.2.1)\n",
      "Requirement already satisfied: wasabi<1.2.0,>=0.9.1 in c:\\users\\kshch\\anaconda3\\lib\\site-packages (from spacy) (1.1.2)\n",
      "Requirement already satisfied: srsly<3.0.0,>=2.4.3 in c:\\users\\kshch\\anaconda3\\lib\\site-packages (from spacy) (2.4.8)\n",
      "Requirement already satisfied: catalogue<2.1.0,>=2.0.6 in c:\\users\\kshch\\anaconda3\\lib\\site-packages (from spacy) (2.0.10)\n",
      "Requirement already satisfied: weasel<0.4.0,>=0.1.0 in c:\\users\\kshch\\anaconda3\\lib\\site-packages (from spacy) (0.3.3)\n",
      "Requirement already satisfied: typer<0.10.0,>=0.3.0 in c:\\users\\kshch\\anaconda3\\lib\\site-packages (from spacy) (0.9.0)\n",
      "Requirement already satisfied: smart-open<7.0.0,>=5.2.1 in c:\\users\\kshch\\anaconda3\\lib\\site-packages (from spacy) (6.4.0)\n",
      "Requirement already satisfied: tqdm<5.0.0,>=4.38.0 in c:\\users\\kshch\\anaconda3\\lib\\site-packages (from spacy) (4.59.0)\n",
      "Requirement already satisfied: requests<3.0.0,>=2.13.0 in c:\\users\\kshch\\anaconda3\\lib\\site-packages (from spacy) (2.25.1)\n",
      "Requirement already satisfied: pydantic!=1.8,!=1.8.1,<3.0.0,>=1.7.4 in c:\\users\\kshch\\anaconda3\\lib\\site-packages (from spacy) (2.3.0)\n",
      "Requirement already satisfied: jinja2 in c:\\users\\kshch\\anaconda3\\lib\\site-packages (from spacy) (2.11.3)\n",
      "Requirement already satisfied: setuptools in c:\\users\\kshch\\anaconda3\\lib\\site-packages (from spacy) (52.0.0.post20210125)\n",
      "Requirement already satisfied: packaging>=20.0 in c:\\users\\kshch\\anaconda3\\lib\\site-packages (from spacy) (20.9)\n",
      "Requirement already satisfied: langcodes<4.0.0,>=3.2.0 in c:\\users\\kshch\\anaconda3\\lib\\site-packages (from spacy) (3.3.0)\n",
      "Requirement already satisfied: numpy>=1.15.0 in c:\\users\\kshch\\anaconda3\\lib\\site-packages (from spacy) (1.21.3)\n",
      "Requirement already satisfied: pyparsing>=2.0.2 in c:\\users\\kshch\\anaconda3\\lib\\site-packages (from packaging>=20.0->spacy) (2.4.7)\n",
      "Requirement already satisfied: annotated-types>=0.4.0 in c:\\users\\kshch\\anaconda3\\lib\\site-packages (from pydantic!=1.8,!=1.8.1,<3.0.0,>=1.7.4->spacy) (0.5.0)\n",
      "Requirement already satisfied: pydantic-core==2.6.3 in c:\\users\\kshch\\anaconda3\\lib\\site-packages (from pydantic!=1.8,!=1.8.1,<3.0.0,>=1.7.4->spacy) (2.6.3)\n",
      "Requirement already satisfied: typing-extensions>=4.6.1 in c:\\users\\kshch\\anaconda3\\lib\\site-packages (from pydantic!=1.8,!=1.8.1,<3.0.0,>=1.7.4->spacy) (4.7.1)\n",
      "Requirement already satisfied: chardet<5,>=3.0.2 in c:\\users\\kshch\\anaconda3\\lib\\site-packages (from requests<3.0.0,>=2.13.0->spacy) (4.0.0)\n",
      "Requirement already satisfied: idna<3,>=2.5 in c:\\users\\kshch\\anaconda3\\lib\\site-packages (from requests<3.0.0,>=2.13.0->spacy) (2.10)\n",
      "Requirement already satisfied: urllib3<1.27,>=1.21.1 in c:\\users\\kshch\\anaconda3\\lib\\site-packages (from requests<3.0.0,>=2.13.0->spacy) (1.26.4)\n",
      "Requirement already satisfied: certifi>=2017.4.17 in c:\\users\\kshch\\anaconda3\\lib\\site-packages (from requests<3.0.0,>=2.13.0->spacy) (2020.12.5)\n",
      "Requirement already satisfied: blis<0.8.0,>=0.7.8 in c:\\users\\kshch\\anaconda3\\lib\\site-packages (from thinc<8.3.0,>=8.1.8->spacy) (0.7.11)\n",
      "Requirement already satisfied: confection<1.0.0,>=0.0.1 in c:\\users\\kshch\\anaconda3\\lib\\site-packages (from thinc<8.3.0,>=8.1.8->spacy) (0.1.3)\n",
      "Requirement already satisfied: click<9.0.0,>=7.1.1 in c:\\users\\kshch\\anaconda3\\lib\\site-packages (from typer<0.10.0,>=0.3.0->spacy) (8.1.7)\n",
      "Requirement already satisfied: colorama>=0.4.6 in c:\\users\\kshch\\anaconda3\\lib\\site-packages (from wasabi<1.2.0,>=0.9.1->spacy) (0.4.6)\n",
      "Requirement already satisfied: cloudpathlib<0.17.0,>=0.7.0 in c:\\users\\kshch\\anaconda3\\lib\\site-packages (from weasel<0.4.0,>=0.1.0->spacy) (0.16.0)\n",
      "Requirement already satisfied: MarkupSafe>=0.23 in c:\\users\\kshch\\anaconda3\\lib\\site-packages (from jinja2->spacy) (1.1.1)\n"
     ]
    },
    {
     "name": "stderr",
     "output_type": "stream",
     "text": [
      "DEPRECATION: pyodbc 4.0.0-unsupported has a non-standard version number. pip 24.0 will enforce this behaviour change. A possible replacement is to upgrade to a newer version of pyodbc or contact the author to suggest that they release a version with a conforming version number. Discussion can be found at https://github.com/pypa/pip/issues/12063\n",
      "WARNING: There was an error checking the latest version of pip.\n"
     ]
    },
    {
     "name": "stdout",
     "output_type": "stream",
     "text": [
      "Collecting ru-core-news-sm==3.7.0\n",
      "  Downloading https://github.com/explosion/spacy-models/releases/download/ru_core_news_sm-3.7.0/ru_core_news_sm-3.7.0-py3-none-any.whl (15.3 MB)\n",
      "     --------------------------------------- 15.3/15.3 MB 21.8 MB/s eta 0:00:00\n",
      "Requirement already satisfied: spacy<3.8.0,>=3.7.0 in c:\\users\\kshch\\anaconda3\\lib\\site-packages (from ru-core-news-sm==3.7.0) (3.7.2)\n",
      "Requirement already satisfied: pymorphy3>=1.0.0 in c:\\users\\kshch\\anaconda3\\lib\\site-packages (from ru-core-news-sm==3.7.0) (1.2.1)\n",
      "Requirement already satisfied: dawg-python>=0.7.1 in c:\\users\\kshch\\anaconda3\\lib\\site-packages (from pymorphy3>=1.0.0->ru-core-news-sm==3.7.0) (0.7.2)\n",
      "Requirement already satisfied: docopt-ng>=0.6 in c:\\users\\kshch\\anaconda3\\lib\\site-packages (from pymorphy3>=1.0.0->ru-core-news-sm==3.7.0) (0.9.0)\n",
      "Requirement already satisfied: pymorphy3-dicts-ru in c:\\users\\kshch\\anaconda3\\lib\\site-packages (from pymorphy3>=1.0.0->ru-core-news-sm==3.7.0) (2.4.417150.4580142)\n",
      "Requirement already satisfied: spacy-legacy<3.1.0,>=3.0.11 in c:\\users\\kshch\\anaconda3\\lib\\site-packages (from spacy<3.8.0,>=3.7.0->ru-core-news-sm==3.7.0) (3.0.12)\n",
      "Requirement already satisfied: spacy-loggers<2.0.0,>=1.0.0 in c:\\users\\kshch\\anaconda3\\lib\\site-packages (from spacy<3.8.0,>=3.7.0->ru-core-news-sm==3.7.0) (1.0.5)\n",
      "Requirement already satisfied: murmurhash<1.1.0,>=0.28.0 in c:\\users\\kshch\\anaconda3\\lib\\site-packages (from spacy<3.8.0,>=3.7.0->ru-core-news-sm==3.7.0) (1.0.10)\n",
      "Requirement already satisfied: cymem<2.1.0,>=2.0.2 in c:\\users\\kshch\\anaconda3\\lib\\site-packages (from spacy<3.8.0,>=3.7.0->ru-core-news-sm==3.7.0) (2.0.8)\n",
      "Requirement already satisfied: preshed<3.1.0,>=3.0.2 in c:\\users\\kshch\\anaconda3\\lib\\site-packages (from spacy<3.8.0,>=3.7.0->ru-core-news-sm==3.7.0) (3.0.9)\n",
      "Requirement already satisfied: thinc<8.3.0,>=8.1.8 in c:\\users\\kshch\\anaconda3\\lib\\site-packages (from spacy<3.8.0,>=3.7.0->ru-core-news-sm==3.7.0) (8.2.1)\n",
      "Requirement already satisfied: wasabi<1.2.0,>=0.9.1 in c:\\users\\kshch\\anaconda3\\lib\\site-packages (from spacy<3.8.0,>=3.7.0->ru-core-news-sm==3.7.0) (1.1.2)\n",
      "Requirement already satisfied: srsly<3.0.0,>=2.4.3 in c:\\users\\kshch\\anaconda3\\lib\\site-packages (from spacy<3.8.0,>=3.7.0->ru-core-news-sm==3.7.0) (2.4.8)\n",
      "Requirement already satisfied: catalogue<2.1.0,>=2.0.6 in c:\\users\\kshch\\anaconda3\\lib\\site-packages (from spacy<3.8.0,>=3.7.0->ru-core-news-sm==3.7.0) (2.0.10)\n",
      "Requirement already satisfied: weasel<0.4.0,>=0.1.0 in c:\\users\\kshch\\anaconda3\\lib\\site-packages (from spacy<3.8.0,>=3.7.0->ru-core-news-sm==3.7.0) (0.3.3)\n",
      "Requirement already satisfied: typer<0.10.0,>=0.3.0 in c:\\users\\kshch\\anaconda3\\lib\\site-packages (from spacy<3.8.0,>=3.7.0->ru-core-news-sm==3.7.0) (0.9.0)\n",
      "Requirement already satisfied: smart-open<7.0.0,>=5.2.1 in c:\\users\\kshch\\anaconda3\\lib\\site-packages (from spacy<3.8.0,>=3.7.0->ru-core-news-sm==3.7.0) (6.4.0)\n",
      "Requirement already satisfied: tqdm<5.0.0,>=4.38.0 in c:\\users\\kshch\\anaconda3\\lib\\site-packages (from spacy<3.8.0,>=3.7.0->ru-core-news-sm==3.7.0) (4.59.0)\n",
      "Requirement already satisfied: requests<3.0.0,>=2.13.0 in c:\\users\\kshch\\anaconda3\\lib\\site-packages (from spacy<3.8.0,>=3.7.0->ru-core-news-sm==3.7.0) (2.25.1)\n",
      "Requirement already satisfied: pydantic!=1.8,!=1.8.1,<3.0.0,>=1.7.4 in c:\\users\\kshch\\anaconda3\\lib\\site-packages (from spacy<3.8.0,>=3.7.0->ru-core-news-sm==3.7.0) (2.3.0)\n",
      "Requirement already satisfied: jinja2 in c:\\users\\kshch\\anaconda3\\lib\\site-packages (from spacy<3.8.0,>=3.7.0->ru-core-news-sm==3.7.0) (2.11.3)\n",
      "Requirement already satisfied: setuptools in c:\\users\\kshch\\anaconda3\\lib\\site-packages (from spacy<3.8.0,>=3.7.0->ru-core-news-sm==3.7.0) (52.0.0.post20210125)\n",
      "Requirement already satisfied: packaging>=20.0 in c:\\users\\kshch\\anaconda3\\lib\\site-packages (from spacy<3.8.0,>=3.7.0->ru-core-news-sm==3.7.0) (20.9)\n",
      "Requirement already satisfied: langcodes<4.0.0,>=3.2.0 in c:\\users\\kshch\\anaconda3\\lib\\site-packages (from spacy<3.8.0,>=3.7.0->ru-core-news-sm==3.7.0) (3.3.0)\n",
      "Requirement already satisfied: numpy>=1.15.0 in c:\\users\\kshch\\anaconda3\\lib\\site-packages (from spacy<3.8.0,>=3.7.0->ru-core-news-sm==3.7.0) (1.21.3)\n",
      "Requirement already satisfied: pyparsing>=2.0.2 in c:\\users\\kshch\\anaconda3\\lib\\site-packages (from packaging>=20.0->spacy<3.8.0,>=3.7.0->ru-core-news-sm==3.7.0) (2.4.7)\n",
      "Requirement already satisfied: annotated-types>=0.4.0 in c:\\users\\kshch\\anaconda3\\lib\\site-packages (from pydantic!=1.8,!=1.8.1,<3.0.0,>=1.7.4->spacy<3.8.0,>=3.7.0->ru-core-news-sm==3.7.0) (0.5.0)\n",
      "Requirement already satisfied: pydantic-core==2.6.3 in c:\\users\\kshch\\anaconda3\\lib\\site-packages (from pydantic!=1.8,!=1.8.1,<3.0.0,>=1.7.4->spacy<3.8.0,>=3.7.0->ru-core-news-sm==3.7.0) (2.6.3)\n",
      "Requirement already satisfied: typing-extensions>=4.6.1 in c:\\users\\kshch\\anaconda3\\lib\\site-packages (from pydantic!=1.8,!=1.8.1,<3.0.0,>=1.7.4->spacy<3.8.0,>=3.7.0->ru-core-news-sm==3.7.0) (4.7.1)\n",
      "Requirement already satisfied: chardet<5,>=3.0.2 in c:\\users\\kshch\\anaconda3\\lib\\site-packages (from requests<3.0.0,>=2.13.0->spacy<3.8.0,>=3.7.0->ru-core-news-sm==3.7.0) (4.0.0)\n",
      "Requirement already satisfied: idna<3,>=2.5 in c:\\users\\kshch\\anaconda3\\lib\\site-packages (from requests<3.0.0,>=2.13.0->spacy<3.8.0,>=3.7.0->ru-core-news-sm==3.7.0) (2.10)\n",
      "Requirement already satisfied: urllib3<1.27,>=1.21.1 in c:\\users\\kshch\\anaconda3\\lib\\site-packages (from requests<3.0.0,>=2.13.0->spacy<3.8.0,>=3.7.0->ru-core-news-sm==3.7.0) (1.26.4)\n",
      "Requirement already satisfied: certifi>=2017.4.17 in c:\\users\\kshch\\anaconda3\\lib\\site-packages (from requests<3.0.0,>=2.13.0->spacy<3.8.0,>=3.7.0->ru-core-news-sm==3.7.0) (2020.12.5)\n",
      "Requirement already satisfied: blis<0.8.0,>=0.7.8 in c:\\users\\kshch\\anaconda3\\lib\\site-packages (from thinc<8.3.0,>=8.1.8->spacy<3.8.0,>=3.7.0->ru-core-news-sm==3.7.0) (0.7.11)\n",
      "Requirement already satisfied: confection<1.0.0,>=0.0.1 in c:\\users\\kshch\\anaconda3\\lib\\site-packages (from thinc<8.3.0,>=8.1.8->spacy<3.8.0,>=3.7.0->ru-core-news-sm==3.7.0) (0.1.3)\n",
      "Requirement already satisfied: click<9.0.0,>=7.1.1 in c:\\users\\kshch\\anaconda3\\lib\\site-packages (from typer<0.10.0,>=0.3.0->spacy<3.8.0,>=3.7.0->ru-core-news-sm==3.7.0) (8.1.7)\n",
      "Requirement already satisfied: colorama>=0.4.6 in c:\\users\\kshch\\anaconda3\\lib\\site-packages (from wasabi<1.2.0,>=0.9.1->spacy<3.8.0,>=3.7.0->ru-core-news-sm==3.7.0) (0.4.6)\n",
      "Requirement already satisfied: cloudpathlib<0.17.0,>=0.7.0 in c:\\users\\kshch\\anaconda3\\lib\\site-packages (from weasel<0.4.0,>=0.1.0->spacy<3.8.0,>=3.7.0->ru-core-news-sm==3.7.0) (0.16.0)\n",
      "Requirement already satisfied: MarkupSafe>=0.23 in c:\\users\\kshch\\anaconda3\\lib\\site-packages (from jinja2->spacy<3.8.0,>=3.7.0->ru-core-news-sm==3.7.0) (1.1.1)\n",
      "\u001b[38;5;2m[+] Download and installation successful\u001b[0m\n",
      "You can now load the package via spacy.load('ru_core_news_sm')\n"
     ]
    },
    {
     "name": "stderr",
     "output_type": "stream",
     "text": [
      "DEPRECATION: pyodbc 4.0.0-unsupported has a non-standard version number. pip 24.0 will enforce this behaviour change. A possible replacement is to upgrade to a newer version of pyodbc or contact the author to suggest that they release a version with a conforming version number. Discussion can be found at https://github.com/pypa/pip/issues/12063\n",
      "WARNING: There was an error checking the latest version of pip.\n"
     ]
    }
   ],
   "source": [
    "# обновление пакетов\n",
    "!python -m pip install --upgrade pip\n",
    "!pip install --upgrade click\n",
    "\n",
    "# установка spaCy\n",
    "!pip install spacy\n",
    "\n",
    "# установка русскоязычного корпуса\n",
    "!python -m spacy download ru_core_news_sm\n",
    "\n",
    "# установка gensim\n",
    "!pip install gensim"
   ]
  },
  {
   "cell_type": "code",
   "execution_count": 1,
   "id": "88e59f96",
   "metadata": {},
   "outputs": [],
   "source": [
    "# подключение библиотек\n",
    "import numpy as np\n",
    "import pandas as pd\n",
    "import gensim.models\n",
    "import matplotlib.pyplot as plt\n",
    "from sklearn.preprocessing import LabelEncoder\n",
    "import spacy\n",
    "import re\n",
    "import seaborn as sns\n",
    "\n",
    "pd.set_option('display.float_format', lambda x: '%.3f' % x)"
   ]
  },
  {
   "cell_type": "code",
   "execution_count": 2,
   "id": "a6b55e3a",
   "metadata": {},
   "outputs": [],
   "source": [
    "# Функция удаления выбросов\n",
    "def drop_outliers(df):\n",
    "    low = .25\n",
    "    high = .75\n",
    "\n",
    "    filt_df = df\n",
    "\n",
    "    quant_low  = filt_df.quantile(low, axis=0)\n",
    "    quant_high = filt_df.quantile(high, axis=0)\n",
    "\n",
    "    interquartile_range = (quant_high - quant_low) * 1.5\n",
    "\n",
    "    min_val = quant_low - interquartile_range\n",
    "    max_val = quant_high + interquartile_range\n",
    "\n",
    "    filt_df = filt_df.loc[(filt_df['salary_from'] >= min_val['salary_from']) & (filt_df['salary_from'] <= max_val['salary_from'])]\n",
    "    filt_df = filt_df.loc[(filt_df['salary_to'] >= min_val['salary_to']) & (filt_df['salary_to'] <= max_val['salary_to'])]\n",
    "    \n",
    "    return filt_df\n",
    "\n",
    "\n",
    "# Функция, возвращает векторизированное предложение\n",
    "def get_vector(model, sentence):\n",
    "    sentence_vector = []\n",
    "\n",
    "    if len(sentence) == 0:\n",
    "        # Пустые предложения заполним их одним  словом\n",
    "        token_vector = np.zeros(256)\n",
    "        sentence_vector.append(token_vector)\n",
    "    else:\n",
    "        for token in sentence:\n",
    "            try:\n",
    "                token_vector = model.wv[token]\n",
    "            except KeyError as e:\n",
    "                # Случай  слова\n",
    "                token_vector = np.zeros(256)\n",
    "            finally:\n",
    "                sentence_vector.append(token_vector)\n",
    "\n",
    "    return np.mean(sentence_vector, axis=0)"
   ]
  },
  {
   "cell_type": "markdown",
   "id": "c03a4c00",
   "metadata": {},
   "source": [
    "### Загрузка данных"
   ]
  },
  {
   "cell_type": "code",
   "execution_count": 3,
   "id": "420c148e",
   "metadata": {},
   "outputs": [
    {
     "data": {
      "text/html": [
       "<div>\n",
       "<style scoped>\n",
       "    .dataframe tbody tr th:only-of-type {\n",
       "        vertical-align: middle;\n",
       "    }\n",
       "\n",
       "    .dataframe tbody tr th {\n",
       "        vertical-align: top;\n",
       "    }\n",
       "\n",
       "    .dataframe thead th {\n",
       "        text-align: right;\n",
       "    }\n",
       "</style>\n",
       "<table border=\"1\" class=\"dataframe\">\n",
       "  <thead>\n",
       "    <tr style=\"text-align: right;\">\n",
       "      <th></th>\n",
       "      <th>id</th>\n",
       "      <th>custom_position</th>\n",
       "      <th>schedule</th>\n",
       "      <th>salary_from</th>\n",
       "      <th>salary_to</th>\n",
       "      <th>salary_pay_type</th>\n",
       "      <th>offer_education_id</th>\n",
       "      <th>education_name</th>\n",
       "      <th>education_is_base</th>\n",
       "      <th>education_order_num</th>\n",
       "      <th>city_id</th>\n",
       "      <th>list_regions</th>\n",
       "      <th>work_skills</th>\n",
       "      <th>tags_id</th>\n",
       "    </tr>\n",
       "  </thead>\n",
       "  <tbody>\n",
       "    <tr>\n",
       "      <th>19484</th>\n",
       "      <td>48737855</td>\n",
       "      <td>Кладовщик</td>\n",
       "      <td>полный рабочий день</td>\n",
       "      <td>45000</td>\n",
       "      <td>70000</td>\n",
       "      <td>NaN</td>\n",
       "      <td>2</td>\n",
       "      <td>среднее профессиональное</td>\n",
       "      <td>True</td>\n",
       "      <td>20</td>\n",
       "      <td>1</td>\n",
       "      <td>[3]</td>\n",
       "      <td>['комплектация заказов', 'работа с документаци...</td>\n",
       "      <td>NaN</td>\n",
       "    </tr>\n",
       "    <tr>\n",
       "      <th>19485</th>\n",
       "      <td>48737859</td>\n",
       "      <td>Кассир</td>\n",
       "      <td>сменный график</td>\n",
       "      <td>35000</td>\n",
       "      <td>58000</td>\n",
       "      <td>NaN</td>\n",
       "      <td>0</td>\n",
       "      <td>любое</td>\n",
       "      <td>True</td>\n",
       "      <td>0</td>\n",
       "      <td>1</td>\n",
       "      <td>[3]</td>\n",
       "      <td>['ответственность', 'контроль срока годности',...</td>\n",
       "      <td>[5, 6]</td>\n",
       "    </tr>\n",
       "    <tr>\n",
       "      <th>19486</th>\n",
       "      <td>48737860</td>\n",
       "      <td>Инженер по медицинской технике</td>\n",
       "      <td>полный рабочий день</td>\n",
       "      <td>77000</td>\n",
       "      <td>77000</td>\n",
       "      <td>NaN</td>\n",
       "      <td>4</td>\n",
       "      <td>высшее</td>\n",
       "      <td>True</td>\n",
       "      <td>10</td>\n",
       "      <td>1</td>\n",
       "      <td>[3]</td>\n",
       "      <td>['уверенный пользователь ПК', 'ремонт оборудов...</td>\n",
       "      <td>NaN</td>\n",
       "    </tr>\n",
       "    <tr>\n",
       "      <th>19487</th>\n",
       "      <td>48737871</td>\n",
       "      <td>Автомеханик-автослесарь</td>\n",
       "      <td>полный рабочий день</td>\n",
       "      <td>80000</td>\n",
       "      <td>120000</td>\n",
       "      <td>NaN</td>\n",
       "      <td>0</td>\n",
       "      <td>любое</td>\n",
       "      <td>True</td>\n",
       "      <td>0</td>\n",
       "      <td>2</td>\n",
       "      <td>[4]</td>\n",
       "      <td>['устройство автомобилей', 'ремонт тормозной с...</td>\n",
       "      <td>NaN</td>\n",
       "    </tr>\n",
       "    <tr>\n",
       "      <th>19488</th>\n",
       "      <td>48737872</td>\n",
       "      <td>Автомеханик-автослесарь</td>\n",
       "      <td>полный рабочий день</td>\n",
       "      <td>80000</td>\n",
       "      <td>120000</td>\n",
       "      <td>NaN</td>\n",
       "      <td>0</td>\n",
       "      <td>любое</td>\n",
       "      <td>True</td>\n",
       "      <td>0</td>\n",
       "      <td>102</td>\n",
       "      <td>[1166, 1189, 1777, 1781, 1783, 11677]</td>\n",
       "      <td>['устройство автомобилей', 'ремонт тормозной с...</td>\n",
       "      <td>NaN</td>\n",
       "    </tr>\n",
       "  </tbody>\n",
       "</table>\n",
       "</div>"
      ],
      "text/plain": [
       "             id                 custom_position             schedule  \\\n",
       "19484  48737855                       Кладовщик  полный рабочий день   \n",
       "19485  48737859                          Кассир       сменный график   \n",
       "19486  48737860  Инженер по медицинской технике  полный рабочий день   \n",
       "19487  48737871         Автомеханик-автослесарь  полный рабочий день   \n",
       "19488  48737872         Автомеханик-автослесарь  полный рабочий день   \n",
       "\n",
       "       salary_from  salary_to salary_pay_type  offer_education_id  \\\n",
       "19484        45000      70000             NaN                   2   \n",
       "19485        35000      58000             NaN                   0   \n",
       "19486        77000      77000             NaN                   4   \n",
       "19487        80000     120000             NaN                   0   \n",
       "19488        80000     120000             NaN                   0   \n",
       "\n",
       "                 education_name  education_is_base  education_order_num  \\\n",
       "19484  среднее профессиональное               True                   20   \n",
       "19485                     любое               True                    0   \n",
       "19486                    высшее               True                   10   \n",
       "19487                     любое               True                    0   \n",
       "19488                     любое               True                    0   \n",
       "\n",
       "       city_id                           list_regions  \\\n",
       "19484        1                                    [3]   \n",
       "19485        1                                    [3]   \n",
       "19486        1                                    [3]   \n",
       "19487        2                                    [4]   \n",
       "19488      102  [1166, 1189, 1777, 1781, 1783, 11677]   \n",
       "\n",
       "                                             work_skills tags_id  \n",
       "19484  ['комплектация заказов', 'работа с документаци...     NaN  \n",
       "19485  ['ответственность', 'контроль срока годности',...  [5, 6]  \n",
       "19486  ['уверенный пользователь ПК', 'ремонт оборудов...     NaN  \n",
       "19487  ['устройство автомобилей', 'ремонт тормозной с...     NaN  \n",
       "19488  ['устройство автомобилей', 'ремонт тормозной с...     NaN  "
      ]
     },
     "execution_count": 3,
     "metadata": {},
     "output_type": "execute_result"
    }
   ],
   "source": [
    "df = pd.read_csv('data_vacancies.csv')\n",
    "df.tail(5)"
   ]
  },
  {
   "cell_type": "code",
   "execution_count": 4,
   "id": "f0f83fdd",
   "metadata": {},
   "outputs": [
    {
     "data": {
      "text/plain": [
       "(19489, 14)"
      ]
     },
     "execution_count": 4,
     "metadata": {},
     "output_type": "execute_result"
    }
   ],
   "source": [
    "# размер выборки и кол-во признаков\n",
    "df.shape"
   ]
  },
  {
   "cell_type": "code",
   "execution_count": 5,
   "id": "3055296b",
   "metadata": {
    "scrolled": true
   },
   "outputs": [
    {
     "data": {
      "text/plain": [
       "id                         0\n",
       "custom_position            0\n",
       "schedule                   0\n",
       "salary_from                0\n",
       "salary_to                  0\n",
       "salary_pay_type        19383\n",
       "offer_education_id         0\n",
       "education_name             0\n",
       "education_is_base          0\n",
       "education_order_num        0\n",
       "city_id                    0\n",
       "list_regions               0\n",
       "work_skills                0\n",
       "tags_id                 5999\n",
       "dtype: int64"
      ]
     },
     "execution_count": 5,
     "metadata": {},
     "output_type": "execute_result"
    }
   ],
   "source": [
    "# проверка на пустые значения\n",
    "df.isna().sum()"
   ]
  },
  {
   "cell_type": "markdown",
   "id": "67a3dee4",
   "metadata": {},
   "source": [
    "Признак salary_pay_type большую часть выборки Nan. Неинформативный. \\\n",
    "Уникальный индентификатор неинформативен.\\\n",
    "\\\n",
    "tags_id представляет список тегов. Подумать, как с ним работать."
   ]
  },
  {
   "cell_type": "code",
   "execution_count": 6,
   "id": "e6c12cf4",
   "metadata": {},
   "outputs": [],
   "source": [
    "df.drop(['salary_pay_type'], axis=1, inplace=True)\n",
    "df.drop(['id'], axis=1, inplace=True)"
   ]
  },
  {
   "cell_type": "code",
   "execution_count": 7,
   "id": "35ad2d3b",
   "metadata": {},
   "outputs": [
    {
     "name": "stdout",
     "output_type": "stream",
     "text": [
      "<class 'pandas.core.frame.DataFrame'>\n",
      "RangeIndex: 19489 entries, 0 to 19488\n",
      "Data columns (total 12 columns):\n",
      " #   Column               Non-Null Count  Dtype \n",
      "---  ------               --------------  ----- \n",
      " 0   custom_position      19489 non-null  object\n",
      " 1   schedule             19489 non-null  object\n",
      " 2   salary_from          19489 non-null  int64 \n",
      " 3   salary_to            19489 non-null  int64 \n",
      " 4   offer_education_id   19489 non-null  int64 \n",
      " 5   education_name       19489 non-null  object\n",
      " 6   education_is_base    19489 non-null  bool  \n",
      " 7   education_order_num  19489 non-null  int64 \n",
      " 8   city_id              19489 non-null  int64 \n",
      " 9   list_regions         19489 non-null  object\n",
      " 10  work_skills          19489 non-null  object\n",
      " 11  tags_id              13490 non-null  object\n",
      "dtypes: bool(1), int64(5), object(6)\n",
      "memory usage: 1.7+ MB\n"
     ]
    }
   ],
   "source": [
    "# информация о типах данных\n",
    "df.info()"
   ]
  },
  {
   "cell_type": "markdown",
   "id": "5dc8fb3c",
   "metadata": {},
   "source": [
    "Категориальные признаки:\n",
    "* custom_position\n",
    "* schedule       \n",
    "* education_name \n",
    "* list_regions     \n",
    "* work_skills      \n",
    "* tags_id\n",
    "\n",
    "Логический признак:\n",
    "* education_is_base\n",
    "\n",
    "Числовые признаки:     \n",
    "* salary_from\n",
    "* salary_to  \n",
    "* offer_education_id\n",
    "* education_order_num \n",
    "* city_id             "
   ]
  },
  {
   "cell_type": "markdown",
   "id": "781c25e5",
   "metadata": {},
   "source": [
    "Проведём обработку данных"
   ]
  },
  {
   "cell_type": "markdown",
   "id": "a28548c3",
   "metadata": {},
   "source": [
    "### Категориальные признаки"
   ]
  },
  {
   "cell_type": "markdown",
   "id": "01855091",
   "metadata": {},
   "source": [
    "##### 1. Обработка логического признака education_is_base"
   ]
  },
  {
   "cell_type": "code",
   "execution_count": 8,
   "id": "ebd3553e",
   "metadata": {},
   "outputs": [
    {
     "data": {
      "text/plain": [
       "True    19489\n",
       "Name: education_is_base, dtype: int64"
      ]
     },
     "execution_count": 8,
     "metadata": {},
     "output_type": "execute_result"
    }
   ],
   "source": [
    "df['education_is_base'].value_counts()"
   ]
  },
  {
   "cell_type": "code",
   "execution_count": 9,
   "id": "94a00c6a",
   "metadata": {},
   "outputs": [],
   "source": [
    "le_logic = LabelEncoder()\n",
    "le_logic.fit([False, True])\n",
    "\n",
    "df['education_is_base'] = le_logic.transform(df['education_is_base'])"
   ]
  },
  {
   "cell_type": "markdown",
   "id": "fe7376c9",
   "metadata": {},
   "source": [
    "##### 2. Обработка education_name"
   ]
  },
  {
   "cell_type": "code",
   "execution_count": 10,
   "id": "af0b1c42",
   "metadata": {},
   "outputs": [
    {
     "data": {
      "text/plain": [
       "любое                       16740\n",
       "среднее профессиональное     1168\n",
       "высшее                        924\n",
       "среднее                       577\n",
       "неполное высшее                80\n",
       "Name: education_name, dtype: int64"
      ]
     },
     "execution_count": 10,
     "metadata": {},
     "output_type": "execute_result"
    }
   ],
   "source": [
    "df['education_name'].value_counts()"
   ]
  },
  {
   "cell_type": "code",
   "execution_count": 11,
   "id": "1919bd73",
   "metadata": {},
   "outputs": [
    {
     "data": {
      "text/plain": [
       "Text(0.5, 1.0, 'Гистограмма education_name')"
      ]
     },
     "execution_count": 11,
     "metadata": {},
     "output_type": "execute_result"
    },
    {
     "data": {
      "image/png": "[encoded data removed]",
      "text/plain": [
       "<Figure size 576x360 with 1 Axes>"
      ]
     },
     "metadata": {
      "needs_background": "light"
     },
     "output_type": "display_data"
    }
   ],
   "source": [
    "plt.figure(figsize=(8, 5))\n",
    "df['education_name'].value_counts().plot(kind='bar', grid=True)\n",
    "plt.title(\"Гистограмма education_name\")"
   ]
  },
  {
   "cell_type": "code",
   "execution_count": 12,
   "id": "52372dff",
   "metadata": {},
   "outputs": [],
   "source": [
    "le_edname = LabelEncoder()\n",
    "le_edname.fit(df['education_name'])\n",
    "\n",
    "df['education_name'] = le_edname.transform(df['education_name'])"
   ]
  },
  {
   "cell_type": "markdown",
   "id": "7832d2d3",
   "metadata": {},
   "source": [
    "##### 3. Обработка schedule"
   ]
  },
  {
   "cell_type": "code",
   "execution_count": 13,
   "id": "053d3be9",
   "metadata": {},
   "outputs": [
    {
     "data": {
      "text/plain": [
       "полный рабочий день    7462\n",
       "сменный график         6126\n",
       "удаленная работа       2986\n",
       "свободный график       1327\n",
       "вахта                  1302\n",
       "частичная занятость     286\n",
       "Name: schedule, dtype: int64"
      ]
     },
     "execution_count": 13,
     "metadata": {},
     "output_type": "execute_result"
    }
   ],
   "source": [
    "df['schedule'].value_counts()"
   ]
  },
  {
   "cell_type": "code",
   "execution_count": 14,
   "id": "f0bbd3fe",
   "metadata": {},
   "outputs": [
    {
     "data": {
      "text/plain": [
       "Text(0.5, 1.0, 'Гистограмма schedule')"
      ]
     },
     "execution_count": 14,
     "metadata": {},
     "output_type": "execute_result"
    },
    {
     "data": {
      "image/png": "[encoded data removed]",
      "text/plain": [
       "<Figure size 576x360 with 1 Axes>"
      ]
     },
     "metadata": {
      "needs_background": "light"
     },
     "output_type": "display_data"
    }
   ],
   "source": [
    "plt.figure(figsize=(8, 5))\n",
    "df['schedule'].value_counts().plot(kind='bar', grid=True)\n",
    "plt.title(\"Гистограмма schedule\")"
   ]
  },
  {
   "cell_type": "code",
   "execution_count": 15,
   "id": "56c60451",
   "metadata": {},
   "outputs": [],
   "source": [
    "le_schedule = LabelEncoder()\n",
    "le_schedule.fit(df['schedule'])\n",
    "\n",
    "df['schedule'] = le_schedule.transform(df['schedule'])"
   ]
  },
  {
   "cell_type": "markdown",
   "id": "3bc46ec7",
   "metadata": {},
   "source": [
    "##### 4. Обработка tags_id"
   ]
  },
  {
   "cell_type": "code",
   "execution_count": 16,
   "id": "8b87c93b",
   "metadata": {},
   "outputs": [],
   "source": [
    "df['tags_id'] = np.where(df['tags_id'].isna(), '[0]', df['tags_id'])\n",
    "df['tags_id'] = df['tags_id'].apply(lambda x: x[1:-1].split(', '))"
   ]
  },
  {
   "cell_type": "markdown",
   "id": "9f9f1fbe",
   "metadata": {},
   "source": [
    "##### 5. Обработка list_regions"
   ]
  },
  {
   "cell_type": "code",
   "execution_count": 17,
   "id": "2b4fd1c8",
   "metadata": {},
   "outputs": [],
   "source": [
    "df['list_regions'] = df['list_regions'].apply(lambda x: x[1:-1].split(', '))"
   ]
  },
  {
   "cell_type": "markdown",
   "id": "dcae1f18",
   "metadata": {},
   "source": [
    "##### 6. Обработка custom_position\n",
    "###### Удаление выбросов"
   ]
  },
  {
   "cell_type": "code",
   "execution_count": 18,
   "id": "21117c60",
   "metadata": {},
   "outputs": [
    {
     "data": {
      "text/html": [
       "<div>\n",
       "<style scoped>\n",
       "    .dataframe tbody tr th:only-of-type {\n",
       "        vertical-align: middle;\n",
       "    }\n",
       "\n",
       "    .dataframe tbody tr th {\n",
       "        vertical-align: top;\n",
       "    }\n",
       "\n",
       "    .dataframe thead th {\n",
       "        text-align: right;\n",
       "    }\n",
       "</style>\n",
       "<table border=\"1\" class=\"dataframe\">\n",
       "  <thead>\n",
       "    <tr style=\"text-align: right;\">\n",
       "      <th></th>\n",
       "      <th>custom_position</th>\n",
       "      <th>schedule</th>\n",
       "      <th>salary_from</th>\n",
       "      <th>salary_to</th>\n",
       "      <th>offer_education_id</th>\n",
       "      <th>education_name</th>\n",
       "      <th>education_is_base</th>\n",
       "      <th>education_order_num</th>\n",
       "      <th>city_id</th>\n",
       "      <th>list_regions</th>\n",
       "      <th>work_skills</th>\n",
       "      <th>tags_id</th>\n",
       "    </tr>\n",
       "  </thead>\n",
       "  <tbody>\n",
       "    <tr>\n",
       "      <th>0</th>\n",
       "      <td>Сварщик-сборщик</td>\n",
       "      <td>1</td>\n",
       "      <td>60000</td>\n",
       "      <td>120000</td>\n",
       "      <td>0</td>\n",
       "      <td>1</td>\n",
       "      <td>1</td>\n",
       "      <td>0</td>\n",
       "      <td>2</td>\n",
       "      <td>[4]</td>\n",
       "      <td>['сварочные работы', 'сборка изделий по чертеж...</td>\n",
       "      <td>[0]</td>\n",
       "    </tr>\n",
       "    <tr>\n",
       "      <th>1</th>\n",
       "      <td>Сварщик-монтажник</td>\n",
       "      <td>1</td>\n",
       "      <td>60000</td>\n",
       "      <td>120000</td>\n",
       "      <td>0</td>\n",
       "      <td>1</td>\n",
       "      <td>1</td>\n",
       "      <td>0</td>\n",
       "      <td>2</td>\n",
       "      <td>[4]</td>\n",
       "      <td>['монтажные работы', 'строительные работы', 'э...</td>\n",
       "      <td>[0]</td>\n",
       "    </tr>\n",
       "    <tr>\n",
       "      <th>2</th>\n",
       "      <td>Слесарь-сборщик</td>\n",
       "      <td>1</td>\n",
       "      <td>60000</td>\n",
       "      <td>80000</td>\n",
       "      <td>0</td>\n",
       "      <td>1</td>\n",
       "      <td>1</td>\n",
       "      <td>0</td>\n",
       "      <td>2</td>\n",
       "      <td>[4]</td>\n",
       "      <td>['работа на фрезерных станках', 'слесарный рем...</td>\n",
       "      <td>[0]</td>\n",
       "    </tr>\n",
       "    <tr>\n",
       "      <th>3</th>\n",
       "      <td>Грузчик-упаковщик</td>\n",
       "      <td>5</td>\n",
       "      <td>30000</td>\n",
       "      <td>35000</td>\n",
       "      <td>0</td>\n",
       "      <td>1</td>\n",
       "      <td>1</td>\n",
       "      <td>0</td>\n",
       "      <td>1</td>\n",
       "      <td>[3]</td>\n",
       "      <td>['комплектация товара', 'маркировка', 'стрессо...</td>\n",
       "      <td>[6, 9]</td>\n",
       "    </tr>\n",
       "    <tr>\n",
       "      <th>4</th>\n",
       "      <td>Грузчик-упаковщик</td>\n",
       "      <td>5</td>\n",
       "      <td>30000</td>\n",
       "      <td>35000</td>\n",
       "      <td>0</td>\n",
       "      <td>1</td>\n",
       "      <td>1</td>\n",
       "      <td>0</td>\n",
       "      <td>57</td>\n",
       "      <td>[181, 182, 183, 185, 186, 187, 188, 189, 190, ...</td>\n",
       "      <td>['маркировка', 'стрессоустойчивость', 'погрузо...</td>\n",
       "      <td>[6, 9]</td>\n",
       "    </tr>\n",
       "  </tbody>\n",
       "</table>\n",
       "</div>"
      ],
      "text/plain": [
       "     custom_position  schedule  salary_from  salary_to  offer_education_id  \\\n",
       "0    Сварщик-сборщик         1        60000     120000                   0   \n",
       "1  Сварщик-монтажник         1        60000     120000                   0   \n",
       "2    Слесарь-сборщик         1        60000      80000                   0   \n",
       "3  Грузчик-упаковщик         5        30000      35000                   0   \n",
       "4  Грузчик-упаковщик         5        30000      35000                   0   \n",
       "\n",
       "   education_name  education_is_base  education_order_num  city_id  \\\n",
       "0               1                  1                    0        2   \n",
       "1               1                  1                    0        2   \n",
       "2               1                  1                    0        2   \n",
       "3               1                  1                    0        1   \n",
       "4               1                  1                    0       57   \n",
       "\n",
       "                                        list_regions  \\\n",
       "0                                                [4]   \n",
       "1                                                [4]   \n",
       "2                                                [4]   \n",
       "3                                                [3]   \n",
       "4  [181, 182, 183, 185, 186, 187, 188, 189, 190, ...   \n",
       "\n",
       "                                         work_skills tags_id  \n",
       "0  ['сварочные работы', 'сборка изделий по чертеж...     [0]  \n",
       "1  ['монтажные работы', 'строительные работы', 'э...     [0]  \n",
       "2  ['работа на фрезерных станках', 'слесарный рем...     [0]  \n",
       "3  ['комплектация товара', 'маркировка', 'стрессо...  [6, 9]  \n",
       "4  ['маркировка', 'стрессоустойчивость', 'погрузо...  [6, 9]  "
      ]
     },
     "execution_count": 18,
     "metadata": {},
     "output_type": "execute_result"
    }
   ],
   "source": [
    "df.head(5)"
   ]
  },
  {
   "cell_type": "markdown",
   "id": "589bd0a5",
   "metadata": {},
   "source": [
    "Вообще говоря, в вакансии могут быть не указаны salary_from и salary_to"
   ]
  },
  {
   "cell_type": "code",
   "execution_count": 19,
   "id": "2289babf",
   "metadata": {},
   "outputs": [
    {
     "data": {
      "text/plain": [
       "Text(0.5, 1.0, 'Ящик с усами для salary')"
      ]
     },
     "execution_count": 19,
     "metadata": {},
     "output_type": "execute_result"
    },
    {
     "data": {
      "image/png": "[encoded data removed]",
      "text/plain": [
       "<Figure size 720x576 with 1 Axes>"
      ]
     },
     "metadata": {
      "needs_background": "light"
     },
     "output_type": "display_data"
    }
   ],
   "source": [
    "plt.figure(figsize=(10, 8))\n",
    "boxplot = df.boxplot(column=['salary_from', 'salary_to'])  \n",
    "plt.title(\"Ящик с усами для salary\")"
   ]
  },
  {
   "cell_type": "markdown",
   "id": "1878c594",
   "metadata": {},
   "source": [
    "Видно, что анализируя поле salary_from и salary_to мы обобщаяем все профессии, из-за чего имеем много выбросов. При попытке их обработать значительно уменьшится выборка. \\\n",
    "\\\n",
    "**Решение**: обработать поле custom_position на уникальные поля, после чего обработать выбросы."
   ]
  },
  {
   "cell_type": "code",
   "execution_count": 20,
   "id": "1aac1d65",
   "metadata": {},
   "outputs": [
    {
     "data": {
      "text/plain": [
       "count               19489\n",
       "unique               7023\n",
       "top       Продавец-кассир\n",
       "freq                  409\n",
       "Name: custom_position, dtype: object"
      ]
     },
     "execution_count": 20,
     "metadata": {},
     "output_type": "execute_result"
    }
   ],
   "source": [
    "df['custom_position'].describe()"
   ]
  },
  {
   "cell_type": "code",
   "execution_count": 21,
   "id": "244c3b51",
   "metadata": {},
   "outputs": [
    {
     "data": {
      "text/plain": [
       "Продавец-кассир                                                                        409\n",
       "Менеджер по продажам                                                                   290\n",
       "Продавец-консультант                                                                   238\n",
       "Курьер                                                                                 193\n",
       "Охранник                                                                               134\n",
       "                                                                                      ... \n",
       "Рабочий на производство (доводчик изделий)                                               1\n",
       "Работник торгового зала (Одинцово)                                                       1\n",
       "Электромонтер по ремонту и обслуживанию почтообрабатывающего оборудования 6 разряда      1\n",
       "Оператор-маркетолог                                                                      1\n",
       "Менеджер проектов / делопроизводитель                                                    1\n",
       "Name: custom_position, Length: 7023, dtype: int64"
      ]
     },
     "execution_count": 21,
     "metadata": {},
     "output_type": "execute_result"
    }
   ],
   "source": [
    "df['custom_position'].value_counts()"
   ]
  },
  {
   "cell_type": "code",
   "execution_count": 22,
   "id": "d7916dcf",
   "metadata": {},
   "outputs": [],
   "source": [
    "df['custom_position'] = df['custom_position'].apply(lambda x: ' '.join((re.sub(r'\\([^)]*?\\)', '', x)).split()))"
   ]
  },
  {
   "cell_type": "code",
   "execution_count": 23,
   "id": "0ce05be7",
   "metadata": {},
   "outputs": [
    {
     "data": {
      "text/plain": [
       "count               19489\n",
       "unique               5029\n",
       "top       Продавец-кассир\n",
       "freq                  890\n",
       "Name: custom_position, dtype: object"
      ]
     },
     "execution_count": 23,
     "metadata": {},
     "output_type": "execute_result"
    }
   ],
   "source": [
    "df['custom_position'].describe()"
   ]
  },
  {
   "cell_type": "code",
   "execution_count": 24,
   "id": "98e0aa8b",
   "metadata": {},
   "outputs": [
    {
     "data": {
      "text/plain": [
       "Продавец-кассир                                          890\n",
       "Менеджер по продажам                                     413\n",
       "Продавец-консультант                                     290\n",
       "Оператор call-центра                                     227\n",
       "Курьер                                                   213\n",
       "                                                        ... \n",
       "геодезист камеральщик                                      1\n",
       "Специалист документооборота/Сканировщик писем и почты      1\n",
       "Начальник химической лаборатории                           1\n",
       "Комплектовщик заказов на Яндекс.Маркет                     1\n",
       "Декоратор купальников                                      1\n",
       "Name: custom_position, Length: 5029, dtype: int64"
      ]
     },
     "execution_count": 24,
     "metadata": {},
     "output_type": "execute_result"
    }
   ],
   "source": [
    "df['custom_position'].value_counts()"
   ]
  },
  {
   "cell_type": "markdown",
   "id": "878e3348",
   "metadata": {},
   "source": [
    "Почистим данные от выбросов по salary_from и salary_to:"
   ]
  },
  {
   "cell_type": "code",
   "execution_count": 25,
   "id": "b0e863dc",
   "metadata": {},
   "outputs": [
    {
     "data": {
      "text/plain": [
       "Продавец-кассир                   890\n",
       "Менеджер по продажам              413\n",
       "Продавец-консультант              290\n",
       "Оператор call-центра              227\n",
       "Курьер                            213\n",
       "                                 ... \n",
       "Начинающий специалист              15\n",
       "Мерчендайзер-грузчик ФиксПрайс     15\n",
       "Специалист отдела продаж           15\n",
       "Тракторист                         15\n",
       "Сиделка                            15\n",
       "Name: custom_position, Length: 200, dtype: int64"
      ]
     },
     "execution_count": 25,
     "metadata": {},
     "output_type": "execute_result"
    }
   ],
   "source": [
    "top200_profs = df['custom_position'].value_counts().nlargest(200)\n",
    "top200_profs"
   ]
  },
  {
   "cell_type": "code",
   "execution_count": 26,
   "id": "f0ff990e",
   "metadata": {},
   "outputs": [],
   "source": [
    "# удаление выбросов для топ200 профессий\n",
    "df_clear = pd.DataFrame(columns=df.columns)\n",
    "\n",
    "for prof in top200_profs.index:\n",
    "    df_temp = df[df['custom_position'] == prof]\n",
    "    df_temp = drop_outliers(df_temp)\n",
    "    df_clear = pd.concat([df_clear, df_temp])\n",
    "    \n",
    "# добавление остальных строк\n",
    "df_temp = df\n",
    "\n",
    "for prof in top200_profs.index:\n",
    "    df_temp = df_temp.drop(df_temp[df_temp['custom_position'] == prof].index)\n",
    "\n",
    "df_clear = pd.concat([df_clear, df_temp])"
   ]
  },
  {
   "cell_type": "code",
   "execution_count": 27,
   "id": "0b579a1c",
   "metadata": {},
   "outputs": [],
   "source": [
    "df_clear.reset_index(drop=True, inplace=True)"
   ]
  },
  {
   "cell_type": "markdown",
   "id": "cff0504c",
   "metadata": {},
   "source": [
    "###### Токенизация"
   ]
  },
  {
   "cell_type": "code",
   "execution_count": 28,
   "id": "d644c6cf",
   "metadata": {},
   "outputs": [
    {
     "data": {
      "text/plain": [
       "count               18543\n",
       "unique               5029\n",
       "top       Продавец-кассир\n",
       "freq                  825\n",
       "Name: custom_position, dtype: object"
      ]
     },
     "execution_count": 28,
     "metadata": {},
     "output_type": "execute_result"
    }
   ],
   "source": [
    "df_clear['custom_position'].describe()"
   ]
  },
  {
   "cell_type": "code",
   "execution_count": 29,
   "id": "9ddb8f3f",
   "metadata": {},
   "outputs": [],
   "source": [
    "nlp = spacy.load(\"ru_core_news_sm\")\n",
    "\n",
    "df_clear['custom_position'] = df_clear['custom_position'].apply(\n",
    "    lambda x: [str(token).lower() for token in nlp(x) if\n",
    "      not token.is_stop\n",
    "      and not token.is_punct\n",
    "      and not token.is_digit\n",
    "      and not token.like_email\n",
    "      and not token.like_num\n",
    "      and not token.is_space\n",
    "    ]\n",
    "  )   "
   ]
  },
  {
   "cell_type": "code",
   "execution_count": 30,
   "id": "96dd802a",
   "metadata": {},
   "outputs": [
    {
     "data": {
      "text/html": [
       "<div>\n",
       "<style scoped>\n",
       "    .dataframe tbody tr th:only-of-type {\n",
       "        vertical-align: middle;\n",
       "    }\n",
       "\n",
       "    .dataframe tbody tr th {\n",
       "        vertical-align: top;\n",
       "    }\n",
       "\n",
       "    .dataframe thead th {\n",
       "        text-align: right;\n",
       "    }\n",
       "</style>\n",
       "<table border=\"1\" class=\"dataframe\">\n",
       "  <thead>\n",
       "    <tr style=\"text-align: right;\">\n",
       "      <th></th>\n",
       "      <th>custom_position</th>\n",
       "      <th>schedule</th>\n",
       "      <th>salary_from</th>\n",
       "      <th>salary_to</th>\n",
       "      <th>offer_education_id</th>\n",
       "      <th>education_name</th>\n",
       "      <th>education_is_base</th>\n",
       "      <th>education_order_num</th>\n",
       "      <th>city_id</th>\n",
       "      <th>list_regions</th>\n",
       "      <th>work_skills</th>\n",
       "      <th>tags_id</th>\n",
       "    </tr>\n",
       "  </thead>\n",
       "  <tbody>\n",
       "    <tr>\n",
       "      <th>18538</th>\n",
       "      <td>[кассир, кафе, азс]</td>\n",
       "      <td>3</td>\n",
       "      <td>44000</td>\n",
       "      <td>60000</td>\n",
       "      <td>0</td>\n",
       "      <td>1</td>\n",
       "      <td>1</td>\n",
       "      <td>0</td>\n",
       "      <td>57</td>\n",
       "      <td>[192, 1213, 5089]</td>\n",
       "      <td>['ответственность', 'продажи', 'работа на касс...</td>\n",
       "      <td>[5, 6, 9]</td>\n",
       "    </tr>\n",
       "    <tr>\n",
       "      <th>18539</th>\n",
       "      <td>[комплектовщик, склад, интернет, заказов]</td>\n",
       "      <td>1</td>\n",
       "      <td>110000</td>\n",
       "      <td>145000</td>\n",
       "      <td>0</td>\n",
       "      <td>1</td>\n",
       "      <td>1</td>\n",
       "      <td>0</td>\n",
       "      <td>57</td>\n",
       "      <td>[181, 182, 183, 185, 186, 187, 188, 189, 190, ...</td>\n",
       "      <td>['фасовка товара', 'выкладка товара', 'стрессо...</td>\n",
       "      <td>[0]</td>\n",
       "    </tr>\n",
       "    <tr>\n",
       "      <th>18540</th>\n",
       "      <td>[водитель, такси, парковый, авто]</td>\n",
       "      <td>5</td>\n",
       "      <td>85000</td>\n",
       "      <td>120000</td>\n",
       "      <td>0</td>\n",
       "      <td>1</td>\n",
       "      <td>1</td>\n",
       "      <td>0</td>\n",
       "      <td>1</td>\n",
       "      <td>[3]</td>\n",
       "      <td>['спокойный стиль вождения', 'ответственность'...</td>\n",
       "      <td>[5, 6, 9]</td>\n",
       "    </tr>\n",
       "    <tr>\n",
       "      <th>18541</th>\n",
       "      <td>[начальник, участка]</td>\n",
       "      <td>1</td>\n",
       "      <td>100000</td>\n",
       "      <td>100000</td>\n",
       "      <td>4</td>\n",
       "      <td>0</td>\n",
       "      <td>1</td>\n",
       "      <td>10</td>\n",
       "      <td>1</td>\n",
       "      <td>[3]</td>\n",
       "      <td>['Организация общестроительных работ']</td>\n",
       "      <td>[0]</td>\n",
       "    </tr>\n",
       "    <tr>\n",
       "      <th>18542</th>\n",
       "      <td>[инженер, медицинской, технике]</td>\n",
       "      <td>1</td>\n",
       "      <td>77000</td>\n",
       "      <td>77000</td>\n",
       "      <td>4</td>\n",
       "      <td>0</td>\n",
       "      <td>1</td>\n",
       "      <td>10</td>\n",
       "      <td>1</td>\n",
       "      <td>[3]</td>\n",
       "      <td>['уверенный пользователь ПК', 'ремонт оборудов...</td>\n",
       "      <td>[0]</td>\n",
       "    </tr>\n",
       "  </tbody>\n",
       "</table>\n",
       "</div>"
      ],
      "text/plain": [
       "                                 custom_position schedule salary_from  \\\n",
       "18538                        [кассир, кафе, азс]        3       44000   \n",
       "18539  [комплектовщик, склад, интернет, заказов]        1      110000   \n",
       "18540          [водитель, такси, парковый, авто]        5       85000   \n",
       "18541                       [начальник, участка]        1      100000   \n",
       "18542            [инженер, медицинской, технике]        1       77000   \n",
       "\n",
       "      salary_to offer_education_id education_name education_is_base  \\\n",
       "18538     60000                  0              1                 1   \n",
       "18539    145000                  0              1                 1   \n",
       "18540    120000                  0              1                 1   \n",
       "18541    100000                  4              0                 1   \n",
       "18542     77000                  4              0                 1   \n",
       "\n",
       "      education_order_num city_id  \\\n",
       "18538                   0      57   \n",
       "18539                   0      57   \n",
       "18540                   0       1   \n",
       "18541                  10       1   \n",
       "18542                  10       1   \n",
       "\n",
       "                                            list_regions  \\\n",
       "18538                                  [192, 1213, 5089]   \n",
       "18539  [181, 182, 183, 185, 186, 187, 188, 189, 190, ...   \n",
       "18540                                                [3]   \n",
       "18541                                                [3]   \n",
       "18542                                                [3]   \n",
       "\n",
       "                                             work_skills    tags_id  \n",
       "18538  ['ответственность', 'продажи', 'работа на касс...  [5, 6, 9]  \n",
       "18539  ['фасовка товара', 'выкладка товара', 'стрессо...        [0]  \n",
       "18540  ['спокойный стиль вождения', 'ответственность'...  [5, 6, 9]  \n",
       "18541             ['Организация общестроительных работ']        [0]  \n",
       "18542  ['уверенный пользователь ПК', 'ремонт оборудов...        [0]  "
      ]
     },
     "execution_count": 30,
     "metadata": {},
     "output_type": "execute_result"
    }
   ],
   "source": [
    "df_clear.tail(5)"
   ]
  },
  {
   "cell_type": "markdown",
   "id": "afb756af",
   "metadata": {},
   "source": [
    "##### 7. Обработка work_skills"
   ]
  },
  {
   "cell_type": "code",
   "execution_count": 31,
   "id": "51cfe047",
   "metadata": {},
   "outputs": [],
   "source": [
    "df_clear['work_skills'] = df_clear['work_skills'].apply(\n",
    "    lambda x: ''.join(x[1:-1].split(\",\")).replace(\"'\", \"\")\n",
    ")"
   ]
  },
  {
   "cell_type": "code",
   "execution_count": 32,
   "id": "a6d0f1d6",
   "metadata": {},
   "outputs": [],
   "source": [
    "df_clear['work_skills'] = df_clear['work_skills'].apply(\n",
    "    lambda x: [str(token).lower() for token in nlp(x) if\n",
    "      not token.is_stop\n",
    "      and not token.is_punct\n",
    "      and not token.is_digit\n",
    "      and not token.like_email\n",
    "      and not token.like_num\n",
    "      and not token.is_space\n",
    "    ]\n",
    "  )"
   ]
  },
  {
   "cell_type": "code",
   "execution_count": 33,
   "id": "c17a89c2",
   "metadata": {},
   "outputs": [
    {
     "data": {
      "text/html": [
       "<div>\n",
       "<style scoped>\n",
       "    .dataframe tbody tr th:only-of-type {\n",
       "        vertical-align: middle;\n",
       "    }\n",
       "\n",
       "    .dataframe tbody tr th {\n",
       "        vertical-align: top;\n",
       "    }\n",
       "\n",
       "    .dataframe thead th {\n",
       "        text-align: right;\n",
       "    }\n",
       "</style>\n",
       "<table border=\"1\" class=\"dataframe\">\n",
       "  <thead>\n",
       "    <tr style=\"text-align: right;\">\n",
       "      <th></th>\n",
       "      <th>custom_position</th>\n",
       "      <th>schedule</th>\n",
       "      <th>salary_from</th>\n",
       "      <th>salary_to</th>\n",
       "      <th>offer_education_id</th>\n",
       "      <th>education_name</th>\n",
       "      <th>education_is_base</th>\n",
       "      <th>education_order_num</th>\n",
       "      <th>city_id</th>\n",
       "      <th>list_regions</th>\n",
       "      <th>work_skills</th>\n",
       "      <th>tags_id</th>\n",
       "    </tr>\n",
       "  </thead>\n",
       "  <tbody>\n",
       "    <tr>\n",
       "      <th>0</th>\n",
       "      <td>[продавец, кассир]</td>\n",
       "      <td>1</td>\n",
       "      <td>52000</td>\n",
       "      <td>58000</td>\n",
       "      <td>0</td>\n",
       "      <td>1</td>\n",
       "      <td>1</td>\n",
       "      <td>0</td>\n",
       "      <td>2</td>\n",
       "      <td>[4]</td>\n",
       "      <td>[выкладка, товара, работа, кассе, обслуживание...</td>\n",
       "      <td>[6, 9]</td>\n",
       "    </tr>\n",
       "    <tr>\n",
       "      <th>1</th>\n",
       "      <td>[продавец, кассир]</td>\n",
       "      <td>3</td>\n",
       "      <td>38000</td>\n",
       "      <td>38000</td>\n",
       "      <td>0</td>\n",
       "      <td>1</td>\n",
       "      <td>1</td>\n",
       "      <td>0</td>\n",
       "      <td>2</td>\n",
       "      <td>[4]</td>\n",
       "      <td>[выкладка, товара, умение, продавать, консульт...</td>\n",
       "      <td>[0]</td>\n",
       "    </tr>\n",
       "    <tr>\n",
       "      <th>2</th>\n",
       "      <td>[продавец, кассир]</td>\n",
       "      <td>3</td>\n",
       "      <td>35000</td>\n",
       "      <td>40000</td>\n",
       "      <td>0</td>\n",
       "      <td>1</td>\n",
       "      <td>1</td>\n",
       "      <td>0</td>\n",
       "      <td>57</td>\n",
       "      <td>[207]</td>\n",
       "      <td>[выкладка, товара, работа, кассе, участие, про...</td>\n",
       "      <td>[9]</td>\n",
       "    </tr>\n",
       "    <tr>\n",
       "      <th>3</th>\n",
       "      <td>[продавец, кассир]</td>\n",
       "      <td>3</td>\n",
       "      <td>37000</td>\n",
       "      <td>42000</td>\n",
       "      <td>0</td>\n",
       "      <td>1</td>\n",
       "      <td>1</td>\n",
       "      <td>0</td>\n",
       "      <td>57</td>\n",
       "      <td>[1269]</td>\n",
       "      <td>[работа, кассе, работа, торговом, зале, участи...</td>\n",
       "      <td>[9]</td>\n",
       "    </tr>\n",
       "    <tr>\n",
       "      <th>4</th>\n",
       "      <td>[продавец, кассир]</td>\n",
       "      <td>1</td>\n",
       "      <td>33600</td>\n",
       "      <td>63000</td>\n",
       "      <td>0</td>\n",
       "      <td>1</td>\n",
       "      <td>1</td>\n",
       "      <td>0</td>\n",
       "      <td>57</td>\n",
       "      <td>[1220]</td>\n",
       "      <td>[работа, кассе, ответственность, доброжелатель...</td>\n",
       "      <td>[0]</td>\n",
       "    </tr>\n",
       "  </tbody>\n",
       "</table>\n",
       "</div>"
      ],
      "text/plain": [
       "      custom_position schedule salary_from salary_to offer_education_id  \\\n",
       "0  [продавец, кассир]        1       52000     58000                  0   \n",
       "1  [продавец, кассир]        3       38000     38000                  0   \n",
       "2  [продавец, кассир]        3       35000     40000                  0   \n",
       "3  [продавец, кассир]        3       37000     42000                  0   \n",
       "4  [продавец, кассир]        1       33600     63000                  0   \n",
       "\n",
       "  education_name education_is_base education_order_num city_id list_regions  \\\n",
       "0              1                 1                   0       2          [4]   \n",
       "1              1                 1                   0       2          [4]   \n",
       "2              1                 1                   0      57        [207]   \n",
       "3              1                 1                   0      57       [1269]   \n",
       "4              1                 1                   0      57       [1220]   \n",
       "\n",
       "                                         work_skills tags_id  \n",
       "0  [выкладка, товара, работа, кассе, обслуживание...  [6, 9]  \n",
       "1  [выкладка, товара, умение, продавать, консульт...     [0]  \n",
       "2  [выкладка, товара, работа, кассе, участие, про...     [9]  \n",
       "3  [работа, кассе, работа, торговом, зале, участи...     [9]  \n",
       "4  [работа, кассе, ответственность, доброжелатель...     [0]  "
      ]
     },
     "execution_count": 33,
     "metadata": {},
     "output_type": "execute_result"
    }
   ],
   "source": [
    "df_clear.head(5)"
   ]
  },
  {
   "cell_type": "markdown",
   "id": "ba4f38a9",
   "metadata": {},
   "source": [
    "### Числовые признаки"
   ]
  },
  {
   "cell_type": "code",
   "execution_count": 34,
   "id": "183d3fd0",
   "metadata": {},
   "outputs": [],
   "source": [
    "df_clear['salary_from'] = df_clear['salary_from'].apply(lambda x: int(x))\n",
    "df_clear['salary_to'] = df_clear['salary_to'].apply(lambda x: int(x))"
   ]
  },
  {
   "cell_type": "markdown",
   "id": "1be61627",
   "metadata": {},
   "source": [
    "##### 1. salary_from и salary_to"
   ]
  },
  {
   "cell_type": "code",
   "execution_count": 35,
   "id": "f5fa17d5",
   "metadata": {},
   "outputs": [
    {
     "name": "stdout",
     "output_type": "stream",
     "text": [
      "count    18543.000\n",
      "mean     58471.345\n",
      "std      29522.265\n",
      "min      20500.000\n",
      "25%      40000.000\n",
      "50%      50000.000\n",
      "75%      70000.000\n",
      "max     750000.000\n",
      "Name: salary_from, dtype: float64\n",
      "0    60000\n",
      "dtype: int64\n"
     ]
    }
   ],
   "source": [
    "print(df_clear['salary_from'].describe())\n",
    "print(df_clear['salary_from'].mode())"
   ]
  },
  {
   "cell_type": "code",
   "execution_count": 36,
   "id": "cf70b7cb",
   "metadata": {},
   "outputs": [
    {
     "data": {
      "text/plain": [
       "Text(0.5, 1.0, 'Гистограмма для salary_from')"
      ]
     },
     "execution_count": 36,
     "metadata": {},
     "output_type": "execute_result"
    },
    {
     "data": {
      "image/png": "[encoded data removed]",
      "text/plain": [
       "<Figure size 576x360 with 1 Axes>"
      ]
     },
     "metadata": {
      "needs_background": "light"
     },
     "output_type": "display_data"
    }
   ],
   "source": [
    "plt.figure(figsize=(8, 5))\n",
    "df_clear['salary_from'].hist(bins=1 + int(np.log2(df_clear['salary_from'].shape[0])))\n",
    "plt.title(\"Гистограмма для salary_from\")"
   ]
  },
  {
   "cell_type": "code",
   "execution_count": 37,
   "id": "aef3139d",
   "metadata": {},
   "outputs": [
    {
     "name": "stdout",
     "output_type": "stream",
     "text": [
      "count     18543.000\n",
      "mean      87402.705\n",
      "std       53770.738\n",
      "min       21000.000\n",
      "25%       51000.000\n",
      "50%       71000.000\n",
      "75%      104000.000\n",
      "max     1200000.000\n",
      "Name: salary_to, dtype: float64\n",
      "0    50000\n",
      "dtype: int64\n"
     ]
    }
   ],
   "source": [
    "print(df_clear['salary_to'].describe())\n",
    "print(df_clear['salary_to'].mode())"
   ]
  },
  {
   "cell_type": "code",
   "execution_count": 38,
   "id": "96d29fcd",
   "metadata": {},
   "outputs": [
    {
     "data": {
      "text/plain": [
       "Text(0.5, 1.0, 'Гистограмма для salary_to')"
      ]
     },
     "execution_count": 38,
     "metadata": {},
     "output_type": "execute_result"
    },
    {
     "data": {
      "image/png": "[encoded data removed]",
      "text/plain": [
       "<Figure size 576x360 with 1 Axes>"
      ]
     },
     "metadata": {
      "needs_background": "light"
     },
     "output_type": "display_data"
    }
   ],
   "source": [
    "plt.figure(figsize=(8, 5))\n",
    "df_clear['salary_to'].hist(bins=1 + int(np.log2(df_clear['salary_to'].shape[0])))\n",
    "plt.title(\"Гистограмма для salary_to\")"
   ]
  },
  {
   "cell_type": "markdown",
   "id": "ec72afca",
   "metadata": {},
   "source": [
    "##### 2. offer_education_id"
   ]
  },
  {
   "cell_type": "code",
   "execution_count": 39,
   "id": "c62d814b",
   "metadata": {},
   "outputs": [
    {
     "data": {
      "text/plain": [
       "0    15877\n",
       "2     1138\n",
       "4      908\n",
       "1      544\n",
       "3       76\n",
       "Name: offer_education_id, dtype: int64"
      ]
     },
     "execution_count": 39,
     "metadata": {},
     "output_type": "execute_result"
    }
   ],
   "source": [
    "df_clear['offer_education_id'].value_counts()"
   ]
  },
  {
   "cell_type": "code",
   "execution_count": 40,
   "id": "a4166869",
   "metadata": {},
   "outputs": [
    {
     "data": {
      "text/plain": [
       "Text(0.5, 1.0, 'Гистограмма для offer_education_id')"
      ]
     },
     "execution_count": 40,
     "metadata": {},
     "output_type": "execute_result"
    },
    {
     "data": {
      "image/png": "[encoded data removed]",
      "text/plain": [
       "<Figure size 576x360 with 1 Axes>"
      ]
     },
     "metadata": {
      "needs_background": "light"
     },
     "output_type": "display_data"
    }
   ],
   "source": [
    "plt.figure(figsize=(8, 5))\n",
    "df_clear['offer_education_id'].value_counts().plot(kind='bar', grid=True)\n",
    "plt.title(\"Гистограмма для offer_education_id\")"
   ]
  },
  {
   "cell_type": "markdown",
   "id": "36c45cb4",
   "metadata": {},
   "source": [
    "##### 3. education_order_num"
   ]
  },
  {
   "cell_type": "code",
   "execution_count": 41,
   "id": "5542530d",
   "metadata": {},
   "outputs": [
    {
     "data": {
      "text/plain": [
       "0     15877\n",
       "20     1138\n",
       "10      908\n",
       "25      544\n",
       "15       76\n",
       "Name: education_order_num, dtype: int64"
      ]
     },
     "execution_count": 41,
     "metadata": {},
     "output_type": "execute_result"
    }
   ],
   "source": [
    "df_clear['education_order_num'].value_counts()"
   ]
  },
  {
   "cell_type": "code",
   "execution_count": 42,
   "id": "6c1decfd",
   "metadata": {},
   "outputs": [
    {
     "data": {
      "text/plain": [
       "Text(0.5, 1.0, 'Гистограмма для education_order_num')"
      ]
     },
     "execution_count": 42,
     "metadata": {},
     "output_type": "execute_result"
    },
    {
     "data": {
      "image/png": "[encoded data removed]",
      "text/plain": [
       "<Figure size 576x360 with 1 Axes>"
      ]
     },
     "metadata": {
      "needs_background": "light"
     },
     "output_type": "display_data"
    }
   ],
   "source": [
    "plt.figure(figsize=(8, 5))\n",
    "df_clear['education_order_num'].value_counts().plot(kind='bar', grid=True)\n",
    "plt.title(\"Гистограмма для education_order_num\")"
   ]
  },
  {
   "cell_type": "markdown",
   "id": "f3e3dd76",
   "metadata": {},
   "source": [
    "##### 4. city_id"
   ]
  },
  {
   "cell_type": "code",
   "execution_count": 43,
   "id": "e506ed1e",
   "metadata": {},
   "outputs": [
    {
     "data": {
      "text/plain": [
       "1      9119\n",
       "57     4061\n",
       "2      3267\n",
       "102     779\n",
       "174     284\n",
       "       ... \n",
       "54        4\n",
       "256       3\n",
       "268       3\n",
       "272       2\n",
       "252       1\n",
       "Name: city_id, Length: 65, dtype: int64"
      ]
     },
     "execution_count": 43,
     "metadata": {},
     "output_type": "execute_result"
    }
   ],
   "source": [
    "df_clear['city_id'].value_counts()"
   ]
  },
  {
   "cell_type": "code",
   "execution_count": 44,
   "id": "dbcb70ec",
   "metadata": {},
   "outputs": [
    {
     "data": {
      "text/plain": [
       "Text(0.5, 1.0, 'Гистограмма для city_id')"
      ]
     },
     "execution_count": 44,
     "metadata": {},
     "output_type": "execute_result"
    },
    {
     "data": {
      "image/png": "[encoded data removed]",
      "text/plain": [
       "<Figure size 1080x576 with 1 Axes>"
      ]
     },
     "metadata": {
      "needs_background": "light"
     },
     "output_type": "display_data"
    }
   ],
   "source": [
    "plt.figure(figsize=(15, 8))\n",
    "df_clear['city_id'].value_counts().plot(kind='bar', grid=True)\n",
    "plt.title(\"Гистограмма для city_id\")"
   ]
  },
  {
   "cell_type": "markdown",
   "id": "5e86267e",
   "metadata": {},
   "source": [
    "### Получение embeddings"
   ]
  },
  {
   "cell_type": "markdown",
   "id": "7bcb53ab",
   "metadata": {},
   "source": [
    "##### Обработка полей custom_position и work_skills\n",
    "Создадим словарь из текстов custom_position и work_skills"
   ]
  },
  {
   "cell_type": "code",
   "execution_count": 45,
   "id": "c8e5fa07",
   "metadata": {},
   "outputs": [
    {
     "data": {
      "text/plain": [
       "0                                       [продавец, кассир]\n",
       "1                                       [продавец, кассир]\n",
       "2                                       [продавец, кассир]\n",
       "3                                       [продавец, кассир]\n",
       "4                                       [продавец, кассир]\n",
       "                               ...                        \n",
       "18538    [ответственность, продажи, работа, кассе, рабо...\n",
       "18539    [фасовка, товара, выкладка, товара, стрессоуст...\n",
       "18540    [спокойный, стиль, вождения, ответственность, ...\n",
       "18541               [организация, общестроительных, работ]\n",
       "18542    [уверенный, пользователь, пк, ремонт, оборудов...\n",
       "Length: 37086, dtype: object"
      ]
     },
     "execution_count": 45,
     "metadata": {},
     "output_type": "execute_result"
    }
   ],
   "source": [
    "texts = pd.concat([df_clear['custom_position'], df_clear['work_skills']])\n",
    "texts"
   ]
  },
  {
   "cell_type": "code",
   "execution_count": 46,
   "id": "988578d5",
   "metadata": {},
   "outputs": [],
   "source": [
    "fasttext = gensim.models.FastText(\n",
    "    vector_size=256,\n",
    "    window=7,\n",
    "    min_count=1\n",
    "    )"
   ]
  },
  {
   "cell_type": "code",
   "execution_count": 47,
   "id": "9bbf6fe8",
   "metadata": {},
   "outputs": [
    {
     "data": {
      "text/plain": [
       "(4962135, 6330700)"
      ]
     },
     "execution_count": 47,
     "metadata": {},
     "output_type": "execute_result"
    }
   ],
   "source": [
    "fasttext.build_vocab(corpus_iterable=texts)\n",
    "fasttext.train(\n",
    "    corpus_iterable=texts,\n",
    "    total_examples=len(texts),\n",
    "    epochs=25\n",
    "    )"
   ]
  },
  {
   "cell_type": "code",
   "execution_count": 48,
   "id": "530f0d67",
   "metadata": {},
   "outputs": [],
   "source": [
    "vectors = []\n",
    "\n",
    "for item in df_clear['custom_position']:\n",
    "    vectors.append(get_vector(fasttext, item))\n",
    "\n",
    "cols = [f'feature_{i + 1}' for i in range(256)]\n",
    "custom_position = pd.DataFrame(vectors, columns=cols)\n",
    "\n",
    "df_clear = pd.concat([df_clear, custom_position], axis=1)"
   ]
  },
  {
   "cell_type": "code",
   "execution_count": 49,
   "id": "5541a7c9",
   "metadata": {},
   "outputs": [],
   "source": [
    "vectors = []\n",
    "\n",
    "for item in df_clear['work_skills']:\n",
    "    vectors.append(get_vector(fasttext, item))\n",
    "\n",
    "cols = [f'feature_{i + 1}' for i in range(256, 256 + 256)]\n",
    "work_skills = pd.DataFrame(vectors, columns=cols)\n",
    "\n",
    "df_clear = pd.concat([df_clear, work_skills], axis=1)"
   ]
  },
  {
   "cell_type": "code",
   "execution_count": 50,
   "id": "fcb7ba47",
   "metadata": {},
   "outputs": [],
   "source": [
    "df_clear.drop(['custom_position'], axis=1, inplace=True)\n",
    "df_clear.drop(['work_skills'], axis=1, inplace=True)"
   ]
  },
  {
   "cell_type": "code",
   "execution_count": 53,
   "id": "6906b848",
   "metadata": {},
   "outputs": [
    {
     "data": {
      "text/html": [
       "<div>\n",
       "<style scoped>\n",
       "    .dataframe tbody tr th:only-of-type {\n",
       "        vertical-align: middle;\n",
       "    }\n",
       "\n",
       "    .dataframe tbody tr th {\n",
       "        vertical-align: top;\n",
       "    }\n",
       "\n",
       "    .dataframe thead th {\n",
       "        text-align: right;\n",
       "    }\n",
       "</style>\n",
       "<table border=\"1\" class=\"dataframe\">\n",
       "  <thead>\n",
       "    <tr style=\"text-align: right;\">\n",
       "      <th></th>\n",
       "      <th>schedule</th>\n",
       "      <th>salary_from</th>\n",
       "      <th>salary_to</th>\n",
       "      <th>offer_education_id</th>\n",
       "      <th>education_name</th>\n",
       "      <th>education_is_base</th>\n",
       "      <th>education_order_num</th>\n",
       "      <th>city_id</th>\n",
       "      <th>list_regions</th>\n",
       "      <th>tags_id</th>\n",
       "      <th>...</th>\n",
       "      <th>feature_503</th>\n",
       "      <th>feature_504</th>\n",
       "      <th>feature_505</th>\n",
       "      <th>feature_506</th>\n",
       "      <th>feature_507</th>\n",
       "      <th>feature_508</th>\n",
       "      <th>feature_509</th>\n",
       "      <th>feature_510</th>\n",
       "      <th>feature_511</th>\n",
       "      <th>feature_512</th>\n",
       "    </tr>\n",
       "  </thead>\n",
       "  <tbody>\n",
       "    <tr>\n",
       "      <th>0</th>\n",
       "      <td>1</td>\n",
       "      <td>52000</td>\n",
       "      <td>58000</td>\n",
       "      <td>0</td>\n",
       "      <td>1</td>\n",
       "      <td>1</td>\n",
       "      <td>0</td>\n",
       "      <td>2</td>\n",
       "      <td>[4]</td>\n",
       "      <td>[6, 9]</td>\n",
       "      <td>...</td>\n",
       "      <td>1.046</td>\n",
       "      <td>-0.030</td>\n",
       "      <td>0.952</td>\n",
       "      <td>-0.595</td>\n",
       "      <td>0.051</td>\n",
       "      <td>-0.182</td>\n",
       "      <td>0.028</td>\n",
       "      <td>0.256</td>\n",
       "      <td>-0.185</td>\n",
       "      <td>-0.468</td>\n",
       "    </tr>\n",
       "    <tr>\n",
       "      <th>1</th>\n",
       "      <td>3</td>\n",
       "      <td>38000</td>\n",
       "      <td>38000</td>\n",
       "      <td>0</td>\n",
       "      <td>1</td>\n",
       "      <td>1</td>\n",
       "      <td>0</td>\n",
       "      <td>2</td>\n",
       "      <td>[4]</td>\n",
       "      <td>[0]</td>\n",
       "      <td>...</td>\n",
       "      <td>1.005</td>\n",
       "      <td>-0.070</td>\n",
       "      <td>0.194</td>\n",
       "      <td>-0.409</td>\n",
       "      <td>0.366</td>\n",
       "      <td>-0.008</td>\n",
       "      <td>-0.097</td>\n",
       "      <td>0.200</td>\n",
       "      <td>-0.135</td>\n",
       "      <td>-0.276</td>\n",
       "    </tr>\n",
       "    <tr>\n",
       "      <th>2</th>\n",
       "      <td>3</td>\n",
       "      <td>35000</td>\n",
       "      <td>40000</td>\n",
       "      <td>0</td>\n",
       "      <td>1</td>\n",
       "      <td>1</td>\n",
       "      <td>0</td>\n",
       "      <td>57</td>\n",
       "      <td>[207]</td>\n",
       "      <td>[9]</td>\n",
       "      <td>...</td>\n",
       "      <td>0.773</td>\n",
       "      <td>-0.176</td>\n",
       "      <td>0.650</td>\n",
       "      <td>-0.596</td>\n",
       "      <td>0.539</td>\n",
       "      <td>-0.609</td>\n",
       "      <td>0.080</td>\n",
       "      <td>0.519</td>\n",
       "      <td>-0.098</td>\n",
       "      <td>-0.330</td>\n",
       "    </tr>\n",
       "    <tr>\n",
       "      <th>3</th>\n",
       "      <td>3</td>\n",
       "      <td>37000</td>\n",
       "      <td>42000</td>\n",
       "      <td>0</td>\n",
       "      <td>1</td>\n",
       "      <td>1</td>\n",
       "      <td>0</td>\n",
       "      <td>57</td>\n",
       "      <td>[1269]</td>\n",
       "      <td>[9]</td>\n",
       "      <td>...</td>\n",
       "      <td>0.773</td>\n",
       "      <td>-0.176</td>\n",
       "      <td>0.650</td>\n",
       "      <td>-0.596</td>\n",
       "      <td>0.539</td>\n",
       "      <td>-0.609</td>\n",
       "      <td>0.080</td>\n",
       "      <td>0.519</td>\n",
       "      <td>-0.098</td>\n",
       "      <td>-0.330</td>\n",
       "    </tr>\n",
       "    <tr>\n",
       "      <th>4</th>\n",
       "      <td>1</td>\n",
       "      <td>33600</td>\n",
       "      <td>63000</td>\n",
       "      <td>0</td>\n",
       "      <td>1</td>\n",
       "      <td>1</td>\n",
       "      <td>0</td>\n",
       "      <td>57</td>\n",
       "      <td>[1220]</td>\n",
       "      <td>[0]</td>\n",
       "      <td>...</td>\n",
       "      <td>0.789</td>\n",
       "      <td>0.349</td>\n",
       "      <td>0.724</td>\n",
       "      <td>-0.530</td>\n",
       "      <td>0.771</td>\n",
       "      <td>-0.147</td>\n",
       "      <td>0.035</td>\n",
       "      <td>0.335</td>\n",
       "      <td>0.403</td>\n",
       "      <td>-0.295</td>\n",
       "    </tr>\n",
       "    <tr>\n",
       "      <th>...</th>\n",
       "      <td>...</td>\n",
       "      <td>...</td>\n",
       "      <td>...</td>\n",
       "      <td>...</td>\n",
       "      <td>...</td>\n",
       "      <td>...</td>\n",
       "      <td>...</td>\n",
       "      <td>...</td>\n",
       "      <td>...</td>\n",
       "      <td>...</td>\n",
       "      <td>...</td>\n",
       "      <td>...</td>\n",
       "      <td>...</td>\n",
       "      <td>...</td>\n",
       "      <td>...</td>\n",
       "      <td>...</td>\n",
       "      <td>...</td>\n",
       "      <td>...</td>\n",
       "      <td>...</td>\n",
       "      <td>...</td>\n",
       "      <td>...</td>\n",
       "    </tr>\n",
       "    <tr>\n",
       "      <th>18538</th>\n",
       "      <td>3</td>\n",
       "      <td>44000</td>\n",
       "      <td>60000</td>\n",
       "      <td>0</td>\n",
       "      <td>1</td>\n",
       "      <td>1</td>\n",
       "      <td>0</td>\n",
       "      <td>57</td>\n",
       "      <td>[192, 1213, 5089]</td>\n",
       "      <td>[5, 6, 9]</td>\n",
       "      <td>...</td>\n",
       "      <td>0.630</td>\n",
       "      <td>-0.804</td>\n",
       "      <td>0.628</td>\n",
       "      <td>-0.544</td>\n",
       "      <td>0.506</td>\n",
       "      <td>-0.114</td>\n",
       "      <td>-0.187</td>\n",
       "      <td>0.159</td>\n",
       "      <td>0.070</td>\n",
       "      <td>-0.560</td>\n",
       "    </tr>\n",
       "    <tr>\n",
       "      <th>18539</th>\n",
       "      <td>1</td>\n",
       "      <td>110000</td>\n",
       "      <td>145000</td>\n",
       "      <td>0</td>\n",
       "      <td>1</td>\n",
       "      <td>1</td>\n",
       "      <td>0</td>\n",
       "      <td>57</td>\n",
       "      <td>[181, 182, 183, 185, 186, 187, 188, 189, 190, ...</td>\n",
       "      <td>[0]</td>\n",
       "      <td>...</td>\n",
       "      <td>1.382</td>\n",
       "      <td>-0.035</td>\n",
       "      <td>-0.068</td>\n",
       "      <td>-1.217</td>\n",
       "      <td>0.010</td>\n",
       "      <td>-0.643</td>\n",
       "      <td>0.252</td>\n",
       "      <td>0.649</td>\n",
       "      <td>0.194</td>\n",
       "      <td>0.095</td>\n",
       "    </tr>\n",
       "    <tr>\n",
       "      <th>18540</th>\n",
       "      <td>5</td>\n",
       "      <td>85000</td>\n",
       "      <td>120000</td>\n",
       "      <td>0</td>\n",
       "      <td>1</td>\n",
       "      <td>1</td>\n",
       "      <td>0</td>\n",
       "      <td>1</td>\n",
       "      <td>[3]</td>\n",
       "      <td>[5, 6, 9]</td>\n",
       "      <td>...</td>\n",
       "      <td>0.567</td>\n",
       "      <td>0.522</td>\n",
       "      <td>0.217</td>\n",
       "      <td>-0.581</td>\n",
       "      <td>-0.496</td>\n",
       "      <td>0.324</td>\n",
       "      <td>-1.178</td>\n",
       "      <td>-0.293</td>\n",
       "      <td>0.753</td>\n",
       "      <td>-0.131</td>\n",
       "    </tr>\n",
       "    <tr>\n",
       "      <th>18541</th>\n",
       "      <td>1</td>\n",
       "      <td>100000</td>\n",
       "      <td>100000</td>\n",
       "      <td>4</td>\n",
       "      <td>0</td>\n",
       "      <td>1</td>\n",
       "      <td>10</td>\n",
       "      <td>1</td>\n",
       "      <td>[3]</td>\n",
       "      <td>[0]</td>\n",
       "      <td>...</td>\n",
       "      <td>-1.945</td>\n",
       "      <td>-0.428</td>\n",
       "      <td>-0.033</td>\n",
       "      <td>-1.040</td>\n",
       "      <td>1.360</td>\n",
       "      <td>-0.840</td>\n",
       "      <td>0.440</td>\n",
       "      <td>0.704</td>\n",
       "      <td>0.475</td>\n",
       "      <td>0.230</td>\n",
       "    </tr>\n",
       "    <tr>\n",
       "      <th>18542</th>\n",
       "      <td>1</td>\n",
       "      <td>77000</td>\n",
       "      <td>77000</td>\n",
       "      <td>4</td>\n",
       "      <td>0</td>\n",
       "      <td>1</td>\n",
       "      <td>10</td>\n",
       "      <td>1</td>\n",
       "      <td>[3]</td>\n",
       "      <td>[0]</td>\n",
       "      <td>...</td>\n",
       "      <td>0.532</td>\n",
       "      <td>-0.268</td>\n",
       "      <td>-0.288</td>\n",
       "      <td>0.616</td>\n",
       "      <td>0.982</td>\n",
       "      <td>-0.376</td>\n",
       "      <td>0.175</td>\n",
       "      <td>-0.796</td>\n",
       "      <td>0.225</td>\n",
       "      <td>-0.098</td>\n",
       "    </tr>\n",
       "  </tbody>\n",
       "</table>\n",
       "<p>18543 rows × 522 columns</p>\n",
       "</div>"
      ],
      "text/plain": [
       "      schedule  salary_from  salary_to offer_education_id education_name  \\\n",
       "0            1        52000      58000                  0              1   \n",
       "1            3        38000      38000                  0              1   \n",
       "2            3        35000      40000                  0              1   \n",
       "3            3        37000      42000                  0              1   \n",
       "4            1        33600      63000                  0              1   \n",
       "...        ...          ...        ...                ...            ...   \n",
       "18538        3        44000      60000                  0              1   \n",
       "18539        1       110000     145000                  0              1   \n",
       "18540        5        85000     120000                  0              1   \n",
       "18541        1       100000     100000                  4              0   \n",
       "18542        1        77000      77000                  4              0   \n",
       "\n",
       "      education_is_base education_order_num city_id  \\\n",
       "0                     1                   0       2   \n",
       "1                     1                   0       2   \n",
       "2                     1                   0      57   \n",
       "3                     1                   0      57   \n",
       "4                     1                   0      57   \n",
       "...                 ...                 ...     ...   \n",
       "18538                 1                   0      57   \n",
       "18539                 1                   0      57   \n",
       "18540                 1                   0       1   \n",
       "18541                 1                  10       1   \n",
       "18542                 1                  10       1   \n",
       "\n",
       "                                            list_regions    tags_id  ...  \\\n",
       "0                                                    [4]     [6, 9]  ...   \n",
       "1                                                    [4]        [0]  ...   \n",
       "2                                                  [207]        [9]  ...   \n",
       "3                                                 [1269]        [9]  ...   \n",
       "4                                                 [1220]        [0]  ...   \n",
       "...                                                  ...        ...  ...   \n",
       "18538                                  [192, 1213, 5089]  [5, 6, 9]  ...   \n",
       "18539  [181, 182, 183, 185, 186, 187, 188, 189, 190, ...        [0]  ...   \n",
       "18540                                                [3]  [5, 6, 9]  ...   \n",
       "18541                                                [3]        [0]  ...   \n",
       "18542                                                [3]        [0]  ...   \n",
       "\n",
       "       feature_503  feature_504  feature_505  feature_506  feature_507  \\\n",
       "0            1.046       -0.030        0.952       -0.595        0.051   \n",
       "1            1.005       -0.070        0.194       -0.409        0.366   \n",
       "2            0.773       -0.176        0.650       -0.596        0.539   \n",
       "3            0.773       -0.176        0.650       -0.596        0.539   \n",
       "4            0.789        0.349        0.724       -0.530        0.771   \n",
       "...            ...          ...          ...          ...          ...   \n",
       "18538        0.630       -0.804        0.628       -0.544        0.506   \n",
       "18539        1.382       -0.035       -0.068       -1.217        0.010   \n",
       "18540        0.567        0.522        0.217       -0.581       -0.496   \n",
       "18541       -1.945       -0.428       -0.033       -1.040        1.360   \n",
       "18542        0.532       -0.268       -0.288        0.616        0.982   \n",
       "\n",
       "       feature_508  feature_509  feature_510  feature_511  feature_512  \n",
       "0           -0.182        0.028        0.256       -0.185       -0.468  \n",
       "1           -0.008       -0.097        0.200       -0.135       -0.276  \n",
       "2           -0.609        0.080        0.519       -0.098       -0.330  \n",
       "3           -0.609        0.080        0.519       -0.098       -0.330  \n",
       "4           -0.147        0.035        0.335        0.403       -0.295  \n",
       "...            ...          ...          ...          ...          ...  \n",
       "18538       -0.114       -0.187        0.159        0.070       -0.560  \n",
       "18539       -0.643        0.252        0.649        0.194        0.095  \n",
       "18540        0.324       -1.178       -0.293        0.753       -0.131  \n",
       "18541       -0.840        0.440        0.704        0.475        0.230  \n",
       "18542       -0.376        0.175       -0.796        0.225       -0.098  \n",
       "\n",
       "[18543 rows x 522 columns]"
      ]
     },
     "execution_count": 53,
     "metadata": {},
     "output_type": "execute_result"
    }
   ],
   "source": [
    "df_clear"
   ]
  },
  {
   "cell_type": "code",
   "execution_count": 52,
   "id": "ea4234ec",
   "metadata": {},
   "outputs": [
    {
     "ename": "KeyboardInterrupt",
     "evalue": "",
     "output_type": "error",
     "traceback": [
      "\u001b[1;31m---------------------------------------------------------------------------\u001b[0m",
      "\u001b[1;31mKeyboardInterrupt\u001b[0m                         Traceback (most recent call last)",
      "\u001b[1;32m<ipython-input-52-d6c15fc90ad6>\u001b[0m in \u001b[0;36m<module>\u001b[1;34m\u001b[0m\n\u001b[0;32m      6\u001b[0m \u001b[1;33m\u001b[0m\u001b[0m\n\u001b[0;32m      7\u001b[0m \u001b[0mfasttext\u001b[0m\u001b[1;33m.\u001b[0m\u001b[0mbuild_vocab\u001b[0m\u001b[1;33m(\u001b[0m\u001b[0mcorpus_iterable\u001b[0m\u001b[1;33m=\u001b[0m\u001b[0mdf_clear\u001b[0m\u001b[1;33m[\u001b[0m\u001b[1;34m'list_regions'\u001b[0m\u001b[1;33m]\u001b[0m\u001b[1;33m)\u001b[0m\u001b[1;33m\u001b[0m\u001b[1;33m\u001b[0m\u001b[0m\n\u001b[1;32m----> 8\u001b[1;33m fasttext.train(\n\u001b[0m\u001b[0;32m      9\u001b[0m     \u001b[0mcorpus_iterable\u001b[0m\u001b[1;33m=\u001b[0m\u001b[0mdf_clear\u001b[0m\u001b[1;33m[\u001b[0m\u001b[1;34m'list_regions'\u001b[0m\u001b[1;33m]\u001b[0m\u001b[1;33m,\u001b[0m\u001b[1;33m\u001b[0m\u001b[1;33m\u001b[0m\u001b[0m\n\u001b[0;32m     10\u001b[0m     \u001b[0mtotal_examples\u001b[0m\u001b[1;33m=\u001b[0m\u001b[0mlen\u001b[0m\u001b[1;33m(\u001b[0m\u001b[0mdf_clear\u001b[0m\u001b[1;33m[\u001b[0m\u001b[1;34m'list_regions'\u001b[0m\u001b[1;33m]\u001b[0m\u001b[1;33m)\u001b[0m\u001b[1;33m,\u001b[0m\u001b[1;33m\u001b[0m\u001b[1;33m\u001b[0m\u001b[0m\n",
      "\u001b[1;32m~\\anaconda3\\lib\\site-packages\\gensim\\models\\word2vec.py\u001b[0m in \u001b[0;36mtrain\u001b[1;34m(self, corpus_iterable, corpus_file, total_examples, total_words, epochs, start_alpha, end_alpha, word_count, queue_factor, report_delay, compute_loss, callbacks, **kwargs)\u001b[0m\n\u001b[0;32m   1071\u001b[0m \u001b[1;33m\u001b[0m\u001b[0m\n\u001b[0;32m   1072\u001b[0m             \u001b[1;32mif\u001b[0m \u001b[0mcorpus_iterable\u001b[0m \u001b[1;32mis\u001b[0m \u001b[1;32mnot\u001b[0m \u001b[1;32mNone\u001b[0m\u001b[1;33m:\u001b[0m\u001b[1;33m\u001b[0m\u001b[1;33m\u001b[0m\u001b[0m\n\u001b[1;32m-> 1073\u001b[1;33m                 trained_word_count_epoch, raw_word_count_epoch, job_tally_epoch = self._train_epoch(\n\u001b[0m\u001b[0;32m   1074\u001b[0m                     \u001b[0mcorpus_iterable\u001b[0m\u001b[1;33m,\u001b[0m \u001b[0mcur_epoch\u001b[0m\u001b[1;33m=\u001b[0m\u001b[0mcur_epoch\u001b[0m\u001b[1;33m,\u001b[0m \u001b[0mtotal_examples\u001b[0m\u001b[1;33m=\u001b[0m\u001b[0mtotal_examples\u001b[0m\u001b[1;33m,\u001b[0m\u001b[1;33m\u001b[0m\u001b[1;33m\u001b[0m\u001b[0m\n\u001b[0;32m   1075\u001b[0m                     \u001b[0mtotal_words\u001b[0m\u001b[1;33m=\u001b[0m\u001b[0mtotal_words\u001b[0m\u001b[1;33m,\u001b[0m \u001b[0mqueue_factor\u001b[0m\u001b[1;33m=\u001b[0m\u001b[0mqueue_factor\u001b[0m\u001b[1;33m,\u001b[0m \u001b[0mreport_delay\u001b[0m\u001b[1;33m=\u001b[0m\u001b[0mreport_delay\u001b[0m\u001b[1;33m,\u001b[0m\u001b[1;33m\u001b[0m\u001b[1;33m\u001b[0m\u001b[0m\n",
      "\u001b[1;32m~\\anaconda3\\lib\\site-packages\\gensim\\models\\word2vec.py\u001b[0m in \u001b[0;36m_train_epoch\u001b[1;34m(self, data_iterable, cur_epoch, total_examples, total_words, queue_factor, report_delay, callbacks)\u001b[0m\n\u001b[0;32m   1432\u001b[0m             \u001b[0mthread\u001b[0m\u001b[1;33m.\u001b[0m\u001b[0mstart\u001b[0m\u001b[1;33m(\u001b[0m\u001b[1;33m)\u001b[0m\u001b[1;33m\u001b[0m\u001b[1;33m\u001b[0m\u001b[0m\n\u001b[0;32m   1433\u001b[0m \u001b[1;33m\u001b[0m\u001b[0m\n\u001b[1;32m-> 1434\u001b[1;33m         trained_word_count, raw_word_count, job_tally = self._log_epoch_progress(\n\u001b[0m\u001b[0;32m   1435\u001b[0m             \u001b[0mprogress_queue\u001b[0m\u001b[1;33m,\u001b[0m \u001b[0mjob_queue\u001b[0m\u001b[1;33m,\u001b[0m \u001b[0mcur_epoch\u001b[0m\u001b[1;33m=\u001b[0m\u001b[0mcur_epoch\u001b[0m\u001b[1;33m,\u001b[0m \u001b[0mtotal_examples\u001b[0m\u001b[1;33m=\u001b[0m\u001b[0mtotal_examples\u001b[0m\u001b[1;33m,\u001b[0m\u001b[1;33m\u001b[0m\u001b[1;33m\u001b[0m\u001b[0m\n\u001b[0;32m   1436\u001b[0m             \u001b[0mtotal_words\u001b[0m\u001b[1;33m=\u001b[0m\u001b[0mtotal_words\u001b[0m\u001b[1;33m,\u001b[0m \u001b[0mreport_delay\u001b[0m\u001b[1;33m=\u001b[0m\u001b[0mreport_delay\u001b[0m\u001b[1;33m,\u001b[0m \u001b[0mis_corpus_file_mode\u001b[0m\u001b[1;33m=\u001b[0m\u001b[1;32mFalse\u001b[0m\u001b[1;33m,\u001b[0m\u001b[1;33m\u001b[0m\u001b[1;33m\u001b[0m\u001b[0m\n",
      "\u001b[1;32m~\\anaconda3\\lib\\site-packages\\gensim\\models\\word2vec.py\u001b[0m in \u001b[0;36m_log_epoch_progress\u001b[1;34m(self, progress_queue, job_queue, cur_epoch, total_examples, total_words, report_delay, is_corpus_file_mode)\u001b[0m\n\u001b[0;32m   1287\u001b[0m \u001b[1;33m\u001b[0m\u001b[0m\n\u001b[0;32m   1288\u001b[0m         \u001b[1;32mwhile\u001b[0m \u001b[0munfinished_worker_count\u001b[0m \u001b[1;33m>\u001b[0m \u001b[1;36m0\u001b[0m\u001b[1;33m:\u001b[0m\u001b[1;33m\u001b[0m\u001b[1;33m\u001b[0m\u001b[0m\n\u001b[1;32m-> 1289\u001b[1;33m             \u001b[0mreport\u001b[0m \u001b[1;33m=\u001b[0m \u001b[0mprogress_queue\u001b[0m\u001b[1;33m.\u001b[0m\u001b[0mget\u001b[0m\u001b[1;33m(\u001b[0m\u001b[1;33m)\u001b[0m  \u001b[1;31m# blocks if workers too slow\u001b[0m\u001b[1;33m\u001b[0m\u001b[1;33m\u001b[0m\u001b[0m\n\u001b[0m\u001b[0;32m   1290\u001b[0m             \u001b[1;32mif\u001b[0m \u001b[0mreport\u001b[0m \u001b[1;32mis\u001b[0m \u001b[1;32mNone\u001b[0m\u001b[1;33m:\u001b[0m  \u001b[1;31m# a thread reporting that it finished\u001b[0m\u001b[1;33m\u001b[0m\u001b[1;33m\u001b[0m\u001b[0m\n\u001b[0;32m   1291\u001b[0m                 \u001b[0munfinished_worker_count\u001b[0m \u001b[1;33m-=\u001b[0m \u001b[1;36m1\u001b[0m\u001b[1;33m\u001b[0m\u001b[1;33m\u001b[0m\u001b[0m\n",
      "\u001b[1;32m~\\anaconda3\\lib\\queue.py\u001b[0m in \u001b[0;36mget\u001b[1;34m(self, block, timeout)\u001b[0m\n\u001b[0;32m    168\u001b[0m             \u001b[1;32melif\u001b[0m \u001b[0mtimeout\u001b[0m \u001b[1;32mis\u001b[0m \u001b[1;32mNone\u001b[0m\u001b[1;33m:\u001b[0m\u001b[1;33m\u001b[0m\u001b[1;33m\u001b[0m\u001b[0m\n\u001b[0;32m    169\u001b[0m                 \u001b[1;32mwhile\u001b[0m \u001b[1;32mnot\u001b[0m \u001b[0mself\u001b[0m\u001b[1;33m.\u001b[0m\u001b[0m_qsize\u001b[0m\u001b[1;33m(\u001b[0m\u001b[1;33m)\u001b[0m\u001b[1;33m:\u001b[0m\u001b[1;33m\u001b[0m\u001b[1;33m\u001b[0m\u001b[0m\n\u001b[1;32m--> 170\u001b[1;33m                     \u001b[0mself\u001b[0m\u001b[1;33m.\u001b[0m\u001b[0mnot_empty\u001b[0m\u001b[1;33m.\u001b[0m\u001b[0mwait\u001b[0m\u001b[1;33m(\u001b[0m\u001b[1;33m)\u001b[0m\u001b[1;33m\u001b[0m\u001b[1;33m\u001b[0m\u001b[0m\n\u001b[0m\u001b[0;32m    171\u001b[0m             \u001b[1;32melif\u001b[0m \u001b[0mtimeout\u001b[0m \u001b[1;33m<\u001b[0m \u001b[1;36m0\u001b[0m\u001b[1;33m:\u001b[0m\u001b[1;33m\u001b[0m\u001b[1;33m\u001b[0m\u001b[0m\n\u001b[0;32m    172\u001b[0m                 \u001b[1;32mraise\u001b[0m \u001b[0mValueError\u001b[0m\u001b[1;33m(\u001b[0m\u001b[1;34m\"'timeout' must be a non-negative number\"\u001b[0m\u001b[1;33m)\u001b[0m\u001b[1;33m\u001b[0m\u001b[1;33m\u001b[0m\u001b[0m\n",
      "\u001b[1;32m~\\anaconda3\\lib\\threading.py\u001b[0m in \u001b[0;36mwait\u001b[1;34m(self, timeout)\u001b[0m\n\u001b[0;32m    300\u001b[0m         \u001b[1;32mtry\u001b[0m\u001b[1;33m:\u001b[0m    \u001b[1;31m# restore state no matter what (e.g., KeyboardInterrupt)\u001b[0m\u001b[1;33m\u001b[0m\u001b[1;33m\u001b[0m\u001b[0m\n\u001b[0;32m    301\u001b[0m             \u001b[1;32mif\u001b[0m \u001b[0mtimeout\u001b[0m \u001b[1;32mis\u001b[0m \u001b[1;32mNone\u001b[0m\u001b[1;33m:\u001b[0m\u001b[1;33m\u001b[0m\u001b[1;33m\u001b[0m\u001b[0m\n\u001b[1;32m--> 302\u001b[1;33m                 \u001b[0mwaiter\u001b[0m\u001b[1;33m.\u001b[0m\u001b[0macquire\u001b[0m\u001b[1;33m(\u001b[0m\u001b[1;33m)\u001b[0m\u001b[1;33m\u001b[0m\u001b[1;33m\u001b[0m\u001b[0m\n\u001b[0m\u001b[0;32m    303\u001b[0m                 \u001b[0mgotit\u001b[0m \u001b[1;33m=\u001b[0m \u001b[1;32mTrue\u001b[0m\u001b[1;33m\u001b[0m\u001b[1;33m\u001b[0m\u001b[0m\n\u001b[0;32m    304\u001b[0m             \u001b[1;32melse\u001b[0m\u001b[1;33m:\u001b[0m\u001b[1;33m\u001b[0m\u001b[1;33m\u001b[0m\u001b[0m\n",
      "\u001b[1;31mKeyboardInterrupt\u001b[0m: "
     ]
    }
   ],
   "source": [
    "# fasttext = gensim.models.FastText(\n",
    "#     vector_size=100,\n",
    "#     window=7,\n",
    "#     min_count=1\n",
    "#     )\n",
    "\n",
    "# fasttext.build_vocab(corpus_iterable=df_clear['list_regions'])\n",
    "# fasttext.train(\n",
    "#     corpus_iterable=df_clear['list_regions'],\n",
    "#     total_examples=len(df_clear['list_regions']),\n",
    "#     epochs=25\n",
    "#     )"
   ]
  },
  {
   "cell_type": "code",
   "execution_count": null,
   "id": "c5a34702",
   "metadata": {},
   "outputs": [],
   "source": [
    "# vectors = []\n",
    "\n",
    "# for item in df_clear['list_regions']:\n",
    "#     vectors.append(get_vector(fasttext, item))\n",
    "\n",
    "# cols = [f'feature_{i + 1}' for i in range(256 * 2, 256 * 2 + 100)]\n",
    "# list_regions = pd.DataFrame(vectors, columns=cols)\n",
    "\n",
    "# df_clear = pd.concat([df_clear, list_regions], axis=1)"
   ]
  },
  {
   "cell_type": "code",
   "execution_count": null,
   "id": "f5da9e5a",
   "metadata": {},
   "outputs": [],
   "source": []
  },
  {
   "cell_type": "code",
   "execution_count": null,
   "id": "d12a1a4a",
   "metadata": {},
   "outputs": [],
   "source": []
  },
  {
   "cell_type": "code",
   "execution_count": null,
   "id": "87be675c",
   "metadata": {},
   "outputs": [],
   "source": []
  },
  {
   "cell_type": "code",
   "execution_count": null,
   "id": "7268675d",
   "metadata": {},
   "outputs": [],
   "source": []
  }
 ],
 "metadata": {
  "kernelspec": {
   "display_name": "Python 3",
   "language": "python",
   "name": "python3"
  },
  "language_info": {
   "codemirror_mode": {
    "name": "ipython",
    "version": 3
   },
   "file_extension": ".py",
   "mimetype": "text/x-python",
   "name": "python",
   "nbconvert_exporter": "python",
   "pygments_lexer": "ipython3",
   "version": "3.8.8"
  }
 },
 "nbformat": 4,
 "nbformat_minor": 5
}
